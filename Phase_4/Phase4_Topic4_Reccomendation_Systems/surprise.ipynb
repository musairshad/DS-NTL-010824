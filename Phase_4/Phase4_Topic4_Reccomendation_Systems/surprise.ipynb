{
 "cells": [
  {
   "cell_type": "markdown",
   "metadata": {},
   "source": [
    "# Using `surprise`\n",
    "\n",
    "See the documentation [here](https://surprise.readthedocs.io/en/stable/getting_started.html)!"
   ]
  },
  {
   "cell_type": "code",
   "execution_count": 3,
   "metadata": {},
   "outputs": [
    {
     "ename": "SyntaxError",
     "evalue": "invalid syntax (1935145249.py, line 1)",
     "output_type": "error",
     "traceback": [
      "\u001b[0;36m  Cell \u001b[0;32mIn[3], line 1\u001b[0;36m\u001b[0m\n\u001b[0;31m    python setup.py clean\u001b[0m\n\u001b[0m           ^\u001b[0m\n\u001b[0;31mSyntaxError\u001b[0m\u001b[0;31m:\u001b[0m invalid syntax\n"
     ]
    }
   ],
   "source": [
    "\n",
    "python setup.py clean\n"
   ]
  },
  {
   "cell_type": "code",
   "execution_count": 2,
   "metadata": {},
   "outputs": [
    {
     "name": "stdout",
     "output_type": "stream",
     "text": [
      "Collecting surprise\n",
      "  Obtaining dependency information for surprise from https://files.pythonhosted.org/packages/61/de/e5cba8682201fcf9c3719a6fdda95693468ed061945493dea2dd37c5618b/surprise-0.1-py2.py3-none-any.whl.metadata\n",
      "  Using cached surprise-0.1-py2.py3-none-any.whl.metadata (327 bytes)\n",
      "Collecting scikit-surprise (from surprise)\n",
      "  Using cached scikit-surprise-1.1.3.tar.gz (771 kB)\n",
      "  Preparing metadata (setup.py) ... \u001b[?25ldone\n",
      "\u001b[?25hRequirement already satisfied: joblib>=1.0.0 in /Users/musa/anaconda3/lib/python3.11/site-packages (from scikit-surprise->surprise) (1.2.0)\n",
      "Requirement already satisfied: numpy>=1.17.3 in /Users/musa/anaconda3/lib/python3.11/site-packages (from scikit-surprise->surprise) (1.24.3)\n",
      "Requirement already satisfied: scipy>=1.3.2 in /Users/musa/anaconda3/lib/python3.11/site-packages (from scikit-surprise->surprise) (1.11.1)\n",
      "Using cached surprise-0.1-py2.py3-none-any.whl (1.8 kB)\n",
      "Building wheels for collected packages: scikit-surprise\n",
      "  Building wheel for scikit-surprise (setup.py) ... \u001b[?25lerror\n",
      "  \u001b[1;31merror\u001b[0m: \u001b[1msubprocess-exited-with-error\u001b[0m\n",
      "  \n",
      "  \u001b[31m×\u001b[0m \u001b[32mpython setup.py bdist_wheel\u001b[0m did not run successfully.\n",
      "  \u001b[31m│\u001b[0m exit code: \u001b[1;36m1\u001b[0m\n",
      "  \u001b[31m╰─>\u001b[0m \u001b[31m[75 lines of output]\u001b[0m\n",
      "  \u001b[31m   \u001b[0m /private/var/folders/b3/sw4s_d3s4d5frrqwl56qmt7r0000gn/T/pip-install-6_mmof4p/scikit-surprise_dbf198be3e1e46bf8942ec742b11d6bb/setup.py:65: _DeprecatedInstaller: setuptools.installer and fetch_build_eggs are deprecated.\n",
      "  \u001b[31m   \u001b[0m !!\n",
      "  \u001b[31m   \u001b[0m \n",
      "  \u001b[31m   \u001b[0m         ********************************************************************************\n",
      "  \u001b[31m   \u001b[0m         Requirements should be satisfied by a PEP 517 installer.\n",
      "  \u001b[31m   \u001b[0m         If you are using pip, you can try `pip install --use-pep517`.\n",
      "  \u001b[31m   \u001b[0m         ********************************************************************************\n",
      "  \u001b[31m   \u001b[0m \n",
      "  \u001b[31m   \u001b[0m !!\n",
      "  \u001b[31m   \u001b[0m   dist.Distribution().fetch_build_eggs([\"numpy>=1.17.3\"])\n",
      "  \u001b[31m   \u001b[0m running bdist_wheel\n",
      "  \u001b[31m   \u001b[0m running build\n",
      "  \u001b[31m   \u001b[0m running build_py\n",
      "  \u001b[31m   \u001b[0m creating build\n",
      "  \u001b[31m   \u001b[0m creating build/lib.macosx-10.9-x86_64-cpython-311\n",
      "  \u001b[31m   \u001b[0m creating build/lib.macosx-10.9-x86_64-cpython-311/surprise\n",
      "  \u001b[31m   \u001b[0m copying surprise/builtin_datasets.py -> build/lib.macosx-10.9-x86_64-cpython-311/surprise\n",
      "  \u001b[31m   \u001b[0m copying surprise/__init__.py -> build/lib.macosx-10.9-x86_64-cpython-311/surprise\n",
      "  \u001b[31m   \u001b[0m copying surprise/dump.py -> build/lib.macosx-10.9-x86_64-cpython-311/surprise\n",
      "  \u001b[31m   \u001b[0m copying surprise/dataset.py -> build/lib.macosx-10.9-x86_64-cpython-311/surprise\n",
      "  \u001b[31m   \u001b[0m copying surprise/reader.py -> build/lib.macosx-10.9-x86_64-cpython-311/surprise\n",
      "  \u001b[31m   \u001b[0m copying surprise/utils.py -> build/lib.macosx-10.9-x86_64-cpython-311/surprise\n",
      "  \u001b[31m   \u001b[0m copying surprise/trainset.py -> build/lib.macosx-10.9-x86_64-cpython-311/surprise\n",
      "  \u001b[31m   \u001b[0m copying surprise/accuracy.py -> build/lib.macosx-10.9-x86_64-cpython-311/surprise\n",
      "  \u001b[31m   \u001b[0m copying surprise/__main__.py -> build/lib.macosx-10.9-x86_64-cpython-311/surprise\n",
      "  \u001b[31m   \u001b[0m creating build/lib.macosx-10.9-x86_64-cpython-311/surprise/prediction_algorithms\n",
      "  \u001b[31m   \u001b[0m copying surprise/prediction_algorithms/algo_base.py -> build/lib.macosx-10.9-x86_64-cpython-311/surprise/prediction_algorithms\n",
      "  \u001b[31m   \u001b[0m copying surprise/prediction_algorithms/knns.py -> build/lib.macosx-10.9-x86_64-cpython-311/surprise/prediction_algorithms\n",
      "  \u001b[31m   \u001b[0m copying surprise/prediction_algorithms/predictions.py -> build/lib.macosx-10.9-x86_64-cpython-311/surprise/prediction_algorithms\n",
      "  \u001b[31m   \u001b[0m copying surprise/prediction_algorithms/__init__.py -> build/lib.macosx-10.9-x86_64-cpython-311/surprise/prediction_algorithms\n",
      "  \u001b[31m   \u001b[0m copying surprise/prediction_algorithms/random_pred.py -> build/lib.macosx-10.9-x86_64-cpython-311/surprise/prediction_algorithms\n",
      "  \u001b[31m   \u001b[0m copying surprise/prediction_algorithms/baseline_only.py -> build/lib.macosx-10.9-x86_64-cpython-311/surprise/prediction_algorithms\n",
      "  \u001b[31m   \u001b[0m creating build/lib.macosx-10.9-x86_64-cpython-311/surprise/model_selection\n",
      "  \u001b[31m   \u001b[0m copying surprise/model_selection/__init__.py -> build/lib.macosx-10.9-x86_64-cpython-311/surprise/model_selection\n",
      "  \u001b[31m   \u001b[0m copying surprise/model_selection/split.py -> build/lib.macosx-10.9-x86_64-cpython-311/surprise/model_selection\n",
      "  \u001b[31m   \u001b[0m copying surprise/model_selection/search.py -> build/lib.macosx-10.9-x86_64-cpython-311/surprise/model_selection\n",
      "  \u001b[31m   \u001b[0m copying surprise/model_selection/validation.py -> build/lib.macosx-10.9-x86_64-cpython-311/surprise/model_selection\n",
      "  \u001b[31m   \u001b[0m running egg_info\n",
      "  \u001b[31m   \u001b[0m writing scikit_surprise.egg-info/PKG-INFO\n",
      "  \u001b[31m   \u001b[0m writing dependency_links to scikit_surprise.egg-info/dependency_links.txt\n",
      "  \u001b[31m   \u001b[0m writing entry points to scikit_surprise.egg-info/entry_points.txt\n",
      "  \u001b[31m   \u001b[0m writing requirements to scikit_surprise.egg-info/requires.txt\n",
      "  \u001b[31m   \u001b[0m writing top-level names to scikit_surprise.egg-info/top_level.txt\n",
      "  \u001b[31m   \u001b[0m reading manifest file 'scikit_surprise.egg-info/SOURCES.txt'\n",
      "  \u001b[31m   \u001b[0m reading manifest template 'MANIFEST.in'\n",
      "  \u001b[31m   \u001b[0m adding license file 'LICENSE.md'\n",
      "  \u001b[31m   \u001b[0m writing manifest file 'scikit_surprise.egg-info/SOURCES.txt'\n",
      "  \u001b[31m   \u001b[0m copying surprise/similarities.c -> build/lib.macosx-10.9-x86_64-cpython-311/surprise\n",
      "  \u001b[31m   \u001b[0m copying surprise/similarities.pyx -> build/lib.macosx-10.9-x86_64-cpython-311/surprise\n",
      "  \u001b[31m   \u001b[0m copying surprise/prediction_algorithms/co_clustering.c -> build/lib.macosx-10.9-x86_64-cpython-311/surprise/prediction_algorithms\n",
      "  \u001b[31m   \u001b[0m copying surprise/prediction_algorithms/co_clustering.pyx -> build/lib.macosx-10.9-x86_64-cpython-311/surprise/prediction_algorithms\n",
      "  \u001b[31m   \u001b[0m copying surprise/prediction_algorithms/matrix_factorization.c -> build/lib.macosx-10.9-x86_64-cpython-311/surprise/prediction_algorithms\n",
      "  \u001b[31m   \u001b[0m copying surprise/prediction_algorithms/matrix_factorization.pyx -> build/lib.macosx-10.9-x86_64-cpython-311/surprise/prediction_algorithms\n",
      "  \u001b[31m   \u001b[0m copying surprise/prediction_algorithms/optimize_baselines.c -> build/lib.macosx-10.9-x86_64-cpython-311/surprise/prediction_algorithms\n",
      "  \u001b[31m   \u001b[0m copying surprise/prediction_algorithms/optimize_baselines.pyx -> build/lib.macosx-10.9-x86_64-cpython-311/surprise/prediction_algorithms\n",
      "  \u001b[31m   \u001b[0m copying surprise/prediction_algorithms/slope_one.c -> build/lib.macosx-10.9-x86_64-cpython-311/surprise/prediction_algorithms\n",
      "  \u001b[31m   \u001b[0m copying surprise/prediction_algorithms/slope_one.pyx -> build/lib.macosx-10.9-x86_64-cpython-311/surprise/prediction_algorithms\n",
      "  \u001b[31m   \u001b[0m running build_ext\n",
      "  \u001b[31m   \u001b[0m building 'surprise.similarities' extension\n",
      "  \u001b[31m   \u001b[0m creating build/temp.macosx-10.9-x86_64-cpython-311\n",
      "  \u001b[31m   \u001b[0m creating build/temp.macosx-10.9-x86_64-cpython-311/surprise\n",
      "  \u001b[31m   \u001b[0m x86_64-apple-darwin13.4.0-clang -DNDEBUG -fwrapv -O2 -Wall -fPIC -O2 -isystem /Users/musa/anaconda3/include -fPIC -O2 -isystem /Users/musa/anaconda3/include -march=core2 -mtune=haswell -mssse3 -ftree-vectorize -fPIC -fPIE -fstack-protector-strong -O2 -pipe -isystem /Users/musa/anaconda3/envs/learn-env/include -D_FORTIFY_SOURCE=2 -mmacosx-version-min=10.9 -isystem /Users/musa/anaconda3/envs/learn-env/include -I/Users/musa/anaconda3/lib/python3.11/site-packages/numpy/core/include -I/Users/musa/anaconda3/include/python3.11 -c surprise/similarities.c -o build/temp.macosx-10.9-x86_64-cpython-311/surprise/similarities.o\n",
      "  \u001b[31m   \u001b[0m In file included from surprise/similarities.c:768:\n",
      "  \u001b[31m   \u001b[0m In file included from /Users/musa/anaconda3/lib/python3.11/site-packages/numpy/core/include/numpy/arrayobject.h:5:\n",
      "  \u001b[31m   \u001b[0m In file included from /Users/musa/anaconda3/lib/python3.11/site-packages/numpy/core/include/numpy/ndarrayobject.h:12:\n",
      "  \u001b[31m   \u001b[0m In file included from /Users/musa/anaconda3/lib/python3.11/site-packages/numpy/core/include/numpy/ndarraytypes.h:1940:\n",
      "  \u001b[31m   \u001b[0m /Users/musa/anaconda3/lib/python3.11/site-packages/numpy/core/include/numpy/npy_1_7_deprecated_api.h:17:2: warning: \"Using deprecated NumPy API, disable it with \"          \"#define NPY_NO_DEPRECATED_API NPY_1_7_API_VERSION\" [-W#warnings]\n",
      "  \u001b[31m   \u001b[0m #warning \"Using deprecated NumPy API, disable it with \" \\\n",
      "  \u001b[31m   \u001b[0m  ^\n",
      "  \u001b[31m   \u001b[0m 1 warning generated.\n",
      "  \u001b[31m   \u001b[0m x86_64-apple-darwin13.4.0-clang -bundle -undefined dynamic_lookup -Wl,-rpath,/Users/musa/anaconda3/lib -L/Users/musa/anaconda3/lib -Wl,-rpath,/Users/musa/anaconda3/lib -L/Users/musa/anaconda3/lib -Wl,-pie -Wl,-headerpad_max_install_names -Wl,-dead_strip_dylibs -Wl,-rpath,/Users/musa/anaconda3/envs/learn-env/lib -L/Users/musa/anaconda3/envs/learn-env/lib -march=core2 -mtune=haswell -mssse3 -ftree-vectorize -fPIC -fPIE -fstack-protector-strong -O2 -pipe -isystem /Users/musa/anaconda3/envs/learn-env/include -D_FORTIFY_SOURCE=2 -mmacosx-version-min=10.9 -isystem /Users/musa/anaconda3/envs/learn-env/include build/temp.macosx-10.9-x86_64-cpython-311/surprise/similarities.o -o build/lib.macosx-10.9-x86_64-cpython-311/surprise/similarities.cpython-311-darwin.so\n",
      "  \u001b[31m   \u001b[0m ld: warning: -pie being ignored. It is only used when linking a main executable\n",
      "  \u001b[31m   \u001b[0m ld: unsupported tapi file type '!tapi-tbd' in YAML file '/Library/Developer/CommandLineTools/SDKs/MacOSX.sdk/usr/lib/libSystem.tbd' for architecture x86_64\n",
      "  \u001b[31m   \u001b[0m clang-10: error: linker command failed with exit code 1 (use -v to see invocation)\n",
      "  \u001b[31m   \u001b[0m error: command '/Users/musa/anaconda3/envs/learn-env/bin/x86_64-apple-darwin13.4.0-clang' failed with exit code 1\n",
      "  \u001b[31m   \u001b[0m \u001b[31m[end of output]\u001b[0m\n",
      "  \n",
      "  \u001b[1;35mnote\u001b[0m: This error originates from a subprocess, and is likely not a problem with pip.\n",
      "\u001b[31m  ERROR: Failed building wheel for scikit-surprise\u001b[0m\u001b[31m\n",
      "\u001b[0m\u001b[?25h  Running setup.py clean for scikit-surprise\n"
     ]
    },
    {
     "name": "stdout",
     "output_type": "stream",
     "text": [
      "Failed to build scikit-surprise\n",
      "\u001b[31mERROR: Could not build wheels for scikit-surprise, which is required to install pyproject.toml-based projects\u001b[0m\u001b[31m\n",
      "\u001b[0mNote: you may need to restart the kernel to use updated packages.\n"
     ]
    }
   ],
   "source": [
    "pip install surprise\n"
   ]
  },
  {
   "cell_type": "code",
   "execution_count": null,
   "metadata": {},
   "outputs": [],
   "source": [
    "pip install --upgrade pip\n",
    "pip install --upgrade setuptools\n"
   ]
  },
  {
   "cell_type": "code",
   "execution_count": 1,
   "metadata": {},
   "outputs": [
    {
     "ename": "ModuleNotFoundError",
     "evalue": "No module named 'surprise'",
     "output_type": "error",
     "traceback": [
      "\u001b[0;31m---------------------------------------------------------------------------\u001b[0m",
      "\u001b[0;31mModuleNotFoundError\u001b[0m                       Traceback (most recent call last)",
      "Cell \u001b[0;32mIn[1], line 1\u001b[0m\n\u001b[0;32m----> 1\u001b[0m \u001b[38;5;28;01mimport\u001b[39;00m \u001b[38;5;21;01msurprise\u001b[39;00m\n\u001b[1;32m      2\u001b[0m \u001b[38;5;28;01mfrom\u001b[39;00m \u001b[38;5;21;01msurprise\u001b[39;00m\u001b[38;5;21;01m.\u001b[39;00m\u001b[38;5;21;01mprediction_algorithms\u001b[39;00m \u001b[38;5;28;01mimport\u001b[39;00m \u001b[38;5;241m*\u001b[39m\n\u001b[1;32m      3\u001b[0m \u001b[38;5;28;01mimport\u001b[39;00m \u001b[38;5;21;01mpandas\u001b[39;00m \u001b[38;5;28;01mas\u001b[39;00m \u001b[38;5;21;01mpd\u001b[39;00m\n",
      "\u001b[0;31mModuleNotFoundError\u001b[0m: No module named 'surprise'"
     ]
    }
   ],
   "source": [
    "import surprise\n",
    "from surprise.prediction_algorithms import *\n",
    "import pandas as pd\n",
    "import numpy as np\n",
    "import datetime as dt"
   ]
  },
  {
   "cell_type": "markdown",
   "metadata": {},
   "source": [
    "## Agenda\n",
    "\n",
    "SWBAT:\n",
    "\n",
    "- use the `surprise` package to build recommendation engines."
   ]
  },
  {
   "cell_type": "code",
   "execution_count": null,
   "metadata": {},
   "outputs": [],
   "source": [
    "data = surprise.Dataset.load_builtin('ml-100k')"
   ]
  },
  {
   "cell_type": "markdown",
   "metadata": {},
   "source": [
    "Now that we've downloaded the data, we can find it in a hidden directory:"
   ]
  },
  {
   "cell_type": "code",
   "execution_count": null,
   "metadata": {},
   "outputs": [],
   "source": [
    "df = pd.read_csv('~/.surprise_data/ml-100k/ml-100k/u.data',\n",
    "            sep='\\t', header=None)\n",
    "df = df.rename(columns={0: 'user', 1: 'item', 2: 'rating', 3: 'timestamp'})\n",
    "df"
   ]
  },
  {
   "cell_type": "markdown",
   "metadata": {},
   "source": [
    "## Data Exploration"
   ]
  },
  {
   "cell_type": "code",
   "execution_count": null,
   "metadata": {},
   "outputs": [],
   "source": [
    "df['user'].nunique()"
   ]
  },
  {
   "cell_type": "code",
   "execution_count": null,
   "metadata": {},
   "outputs": [],
   "source": [
    "df['item'].nunique()"
   ]
  },
  {
   "cell_type": "code",
   "execution_count": null,
   "metadata": {},
   "outputs": [],
   "source": [
    "stats = df[['rating', 'timestamp']].describe()\n",
    "stats"
   ]
  },
  {
   "cell_type": "code",
   "execution_count": null,
   "metadata": {},
   "outputs": [],
   "source": [
    "print(dt.datetime.fromtimestamp(stats.loc['min', 'timestamp']))\n",
    "print(dt.datetime.fromtimestamp(stats.loc['max', 'timestamp']))"
   ]
  },
  {
   "cell_type": "code",
   "execution_count": null,
   "metadata": {},
   "outputs": [],
   "source": [
    "read = surprise.Reader('ml-100k')"
   ]
  },
  {
   "cell_type": "code",
   "execution_count": null,
   "metadata": {},
   "outputs": [],
   "source": [
    "read.rating_scale"
   ]
  },
  {
   "cell_type": "markdown",
   "metadata": {},
   "source": [
    "## Modeling"
   ]
  },
  {
   "cell_type": "code",
   "execution_count": null,
   "metadata": {},
   "outputs": [],
   "source": [
    "train, test = surprise.model_selection.train_test_split(data, random_state=42)"
   ]
  },
  {
   "cell_type": "code",
   "execution_count": null,
   "metadata": {},
   "outputs": [],
   "source": [
    "model = KNNBasic().fit(train)"
   ]
  },
  {
   "cell_type": "markdown",
   "metadata": {},
   "source": [
    "$\\hat{r}_{ui} = \\frac{\n",
    "    \\sum\\limits_{v \\in N^k_i(u)} \\text{sim}(u, v) \\cdot r_{vi}}\n",
    "    {\\sum\\limits_{v \\in N^k_i(u)} \\text{sim}(u, v)}$\n",
    "    OR\n",
    "$\\hat{r}_{ui} = \\frac{\n",
    "    \\sum\\limits_{j \\in N^k_u(i)} \\text{sim}(i, j) \\cdot r_{uj}}\n",
    "    {\\sum\\limits_{j \\in N^k_u(i)} \\text{sim}(i, j)}$"
   ]
  },
  {
   "cell_type": "code",
   "execution_count": null,
   "metadata": {},
   "outputs": [],
   "source": [
    "model2 = SVD().fit(train)"
   ]
  },
  {
   "cell_type": "markdown",
   "metadata": {},
   "source": [
    "$\\sum_{r_{ui} \\in R_{train}} \\left(r_{ui} - \\hat{r}_{ui} \\right)^2 +\n",
    "    \\lambda\\left(b_i^2 + b_u^2 + ||q_i||^2 + ||p_u||^2\\right)$"
   ]
  },
  {
   "cell_type": "code",
   "execution_count": null,
   "metadata": {},
   "outputs": [],
   "source": [
    "model3 = NMF().fit(train)"
   ]
  },
  {
   "cell_type": "markdown",
   "metadata": {},
   "source": [
    "$\\hat{r}_{ui} = q_i^Tp_u$"
   ]
  },
  {
   "cell_type": "code",
   "execution_count": null,
   "metadata": {},
   "outputs": [],
   "source": [
    "#most similiar to movie id 51 using from KNNBasic\n",
    "model.get_neighbors(iid=51, k=1)"
   ]
  },
  {
   "cell_type": "code",
   "execution_count": null,
   "metadata": {},
   "outputs": [],
   "source": [
    "conds = [df['item'] == 51, df['item'] == 65]\n",
    "choices = 2*[True]\n",
    "\n",
    "df.loc[np.select(conds, choices, default=False)].sort_values('user')"
   ]
  },
  {
   "cell_type": "markdown",
   "metadata": {},
   "source": [
    "## Evaluation"
   ]
  },
  {
   "cell_type": "code",
   "execution_count": null,
   "metadata": {
    "scrolled": true
   },
   "outputs": [],
   "source": [
    "# get predictions\n",
    "model.test(test)"
   ]
  },
  {
   "cell_type": "code",
   "execution_count": null,
   "metadata": {
    "cell_style": "split"
   },
   "outputs": [],
   "source": [
    "#KNNBasic\n",
    "surprise.accuracy.mae(model.test(test))"
   ]
  },
  {
   "cell_type": "code",
   "execution_count": null,
   "metadata": {
    "cell_style": "split"
   },
   "outputs": [],
   "source": [
    "#KNNBasic\n",
    "surprise.accuracy.rmse(model.test(test))"
   ]
  },
  {
   "cell_type": "code",
   "execution_count": null,
   "metadata": {
    "cell_style": "split"
   },
   "outputs": [],
   "source": [
    "#SVD\n",
    "surprise.accuracy.mae(model2.test(test))"
   ]
  },
  {
   "cell_type": "code",
   "execution_count": null,
   "metadata": {
    "cell_style": "split"
   },
   "outputs": [],
   "source": [
    "#SVD\n",
    "surprise.accuracy.rmse(model2.test(test))"
   ]
  },
  {
   "cell_type": "code",
   "execution_count": null,
   "metadata": {
    "cell_style": "split"
   },
   "outputs": [],
   "source": [
    "#NMF\n",
    "surprise.accuracy.mae(model3.test(test))"
   ]
  },
  {
   "cell_type": "code",
   "execution_count": null,
   "metadata": {
    "cell_style": "split"
   },
   "outputs": [],
   "source": [
    "#NMF\n",
    "surprise.accuracy.rmse(model3.test(test))"
   ]
  },
  {
   "cell_type": "code",
   "execution_count": null,
   "metadata": {},
   "outputs": [],
   "source": []
  }
 ],
 "metadata": {
  "kernelspec": {
   "display_name": "Python 3 (ipykernel)",
   "language": "python",
   "name": "python3"
  },
  "language_info": {
   "codemirror_mode": {
    "name": "ipython",
    "version": 3
   },
   "file_extension": ".py",
   "mimetype": "text/x-python",
   "name": "python",
   "nbconvert_exporter": "python",
   "pygments_lexer": "ipython3",
   "version": "3.11.5"
  }
 },
 "nbformat": 4,
 "nbformat_minor": 4
}
