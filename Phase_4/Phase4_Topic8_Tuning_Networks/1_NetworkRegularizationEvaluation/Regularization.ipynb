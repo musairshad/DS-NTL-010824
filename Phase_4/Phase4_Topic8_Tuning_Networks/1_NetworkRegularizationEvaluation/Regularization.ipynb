{
 "cells": [
  {
   "cell_type": "markdown",
   "metadata": {
    "slideshow": {
     "slide_type": "slide"
    }
   },
   "source": [
    "<div style=\"color:white;\n",
    "           display:fill;\n",
    "           border-radius:5px;\n",
    "           background-color:#5642C5;\n",
    "           font-size:200%;\n",
    "           font-family:Arial;letter-spacing:0.5px\">\n",
    "\n",
    "<p width = 20%, style=\"padding: 10px;\n",
    "              color:white;\">\n",
    "Neural Networks: Regularization\n",
    "</p>\n",
    "</div>\n",
    "\n",
    "DS-NTL-010824<p>Phase 4</p>\n",
    "<br>\n",
    "<br>\n",
    "\n",
    "<div align = \"right\">\n",
    "<img src=\"Images/flatiron-school-logo.png\" align = \"right\" width=\"200\"/>\n",
    "</div>\n",
    "    \n",
    "    "
   ]
  },
  {
   "cell_type": "code",
   "execution_count": 31,
   "metadata": {
    "slideshow": {
     "slide_type": "skip"
    }
   },
   "outputs": [],
   "source": [
    "from sklearn.datasets import load_sample_images\n",
    "from sklearn.datasets import load_digits\n",
    "from sklearn.model_selection import train_test_split, cross_val_score\n",
    "from sklearn.preprocessing import OneHotEncoder\n",
    "from sklearn.metrics import accuracy_score, confusion_matrix\n",
    "import matplotlib.pyplot as plt\n",
    "import matplotlib.image as mpimg\n",
    "import numpy as np\n",
    "import pandas as pd\n",
    "from sklearn.metrics import ConfusionMatrixDisplay\n",
    "import seaborn as sns\n",
    "\n",
    "from tensorflow.keras import datasets\n",
    "from tensorflow.keras.models import Sequential\n",
    "from tensorflow.keras.layers import Dense, Dropout\n",
    "from tensorflow.keras.callbacks import EarlyStopping\n",
    "from tensorflow.keras.utils import to_categorical\n",
    "from tensorflow.keras.layers import Flatten # takes 2D input and turns into 1D array\n",
    "\n",
    "\n",
    "import tensorflow as tf\n",
    "\n",
    "#Set the global random seed\n",
    "tf.random.set_seed(42)\n"
   ]
  },
  {
   "cell_type": "markdown",
   "metadata": {
    "slideshow": {
     "slide_type": "slide"
    }
   },
   "source": [
    "### Things to remember:\n"
   ]
  },
  {
   "cell_type": "markdown",
   "metadata": {
    "slideshow": {
     "slide_type": "fragment"
    }
   },
   "source": [
    "## STEPS ##\n",
    "\n",
    "1. Load Data\n",
    "2. Define Keras Model\n",
    "3. Compile Keras Model\n",
    "4. Fit Keras Model\n",
    "5. Evaluate Keras Model\n",
    "6. Make Predictions"
   ]
  },
  {
   "cell_type": "markdown",
   "metadata": {
    "slideshow": {
     "slide_type": "slide"
    }
   },
   "source": [
    "\n",
    "- The data and labels in `fit()` need to be numpy arrays, not `pandas` dfs.\n",
    "- Scaling your data will have a large impact on your model.\n",
    "   > For our traditional input features, we would use a scaler object. For images, as long as the minimum value is 0, we can simply divide through by the maximum pixel intensity."
   ]
  },
  {
   "cell_type": "markdown",
   "metadata": {
    "slideshow": {
     "slide_type": "slide"
    }
   },
   "source": [
    "#### Regularization\n",
    "- Retain complexity of neural network: many weights to learn interesting relationships\n",
    "- Make our weights less susceptible to overfitting\n",
    "\n",
    "**Getting neural networks to perform really well**"
   ]
  },
  {
   "cell_type": "markdown",
   "metadata": {
    "slideshow": {
     "slide_type": "slide"
    }
   },
   "source": [
    "In neural networks, two main forms of regularization:\n",
    "- L2 Regularization (something familiar)\n",
    "- Dropout Regularization (something a little new)"
   ]
  },
  {
   "cell_type": "markdown",
   "metadata": {
    "slideshow": {
     "slide_type": "slide"
    }
   },
   "source": [
    "**L2 Regularization**\n",
    "\n",
    "- Add penalty on weight **matrices**.\n",
    "$$ J \\rightarrow J' $$\n",
    "$$ J = \\sum_{i=1}^m \\frac{1}{m}L(y_i, \\hat{y}_i) $$\n",
    "$$ J' = \\sum_{i=1}^m \\frac{1}{m}L(y_i, \\hat{y}_i) + \\frac{\\lambda}{2} \\sum_{l=1}^L \\lVert  W^{[l]}   \\rVert_F^2 $$"
   ]
  },
  {
   "cell_type": "markdown",
   "metadata": {
    "slideshow": {
     "slide_type": "fragment"
    }
   },
   "source": [
    "where $F$ denotes the Frobenius norm."
   ]
  },
  {
   "cell_type": "markdown",
   "metadata": {
    "cell_style": "center",
    "slideshow": {
     "slide_type": "slide"
    }
   },
   "source": [
    "Frobenius norm is square root of sum of of element-wise square:\n",
    "i.e. \n",
    "$$ \\lVert  A   \\rVert_F = \\sqrt{\\sum_{i,j} A_{ij}^2 }$$"
   ]
  },
  {
   "cell_type": "code",
   "execution_count": 32,
   "metadata": {
    "slideshow": {
     "slide_type": "fragment"
    }
   },
   "outputs": [],
   "source": [
    "import numpy as np\n",
    "from numpy.linalg import norm"
   ]
  },
  {
   "cell_type": "code",
   "execution_count": 33,
   "metadata": {
    "cell_style": "split",
    "slideshow": {
     "slide_type": "fragment"
    }
   },
   "outputs": [
    {
     "data": {
      "text/plain": [
       "array([[1, 2],\n",
       "       [0, 3]])"
      ]
     },
     "execution_count": 33,
     "metadata": {},
     "output_type": "execute_result"
    }
   ],
   "source": [
    "A = np.array([[1,2],[0,3]])\n",
    "A"
   ]
  },
  {
   "cell_type": "code",
   "execution_count": 34,
   "metadata": {
    "cell_style": "split",
    "slideshow": {
     "slide_type": "fragment"
    }
   },
   "outputs": [
    {
     "data": {
      "text/plain": [
       "3.7416573867739413"
      ]
     },
     "execution_count": 34,
     "metadata": {},
     "output_type": "execute_result"
    }
   ],
   "source": [
    "norm(A, 'fro')"
   ]
  },
  {
   "cell_type": "code",
   "execution_count": 35,
   "metadata": {
    "cell_style": "split",
    "slideshow": {
     "slide_type": "fragment"
    }
   },
   "outputs": [
    {
     "data": {
      "text/plain": [
       "3.7416573867739413"
      ]
     },
     "execution_count": 35,
     "metadata": {},
     "output_type": "execute_result"
    }
   ],
   "source": [
    "np.sqrt(1**2 + 0**2 + 2**2 + 3**2)"
   ]
  },
  {
   "cell_type": "markdown",
   "metadata": {
    "cell_style": "center",
    "slideshow": {
     "slide_type": "slide"
    }
   },
   "source": [
    "Modiied objective functon:\n",
    "\n",
    "$$ J' = \\sum_{i=1}^m \\frac{1}{m}L(y_i, \\hat{y}_i) + \\frac{\\lambda}{2} \\sum_{l=1}^L \\lVert  W^{[l]}   \\rVert_F^2 $$"
   ]
  },
  {
   "cell_type": "markdown",
   "metadata": {
    "cell_style": "center",
    "slideshow": {
     "slide_type": "fragment"
    }
   },
   "source": [
    "Regularization serves to penalize any particular weight from being too large:\n",
    "- smoothens/redistributes weights for each weight matrix\n",
    "- aids in generalization"
   ]
  },
  {
   "cell_type": "markdown",
   "metadata": {
    "cell_style": "center",
    "slideshow": {
     "slide_type": "slide"
    }
   },
   "source": [
    "L2 regularization: often known as weight decay\n",
    "- Perspective: gradient descent\n",
    "$$ J' = \\sum_{i=1}^m \\frac{1}{m}L(y_i, \\hat{y}_i) + \\frac{\\lambda}{2} \\sum_{l=1}^L \\lVert  W^{[l]}   \\rVert_F^2 $$\n",
    "$$ W^{[l]} \\rightarrow W^{[l]} - \\alpha \\frac{\\partial J'}{\\partial W^{[l]}} $$ "
   ]
  },
  {
   "cell_type": "markdown",
   "metadata": {
    "cell_style": "center",
    "slideshow": {
     "slide_type": "slide"
    }
   },
   "source": [
    "$$ J = \\sum_{i=1}^m \\frac{1}{m}L(y_i, \\hat{y}_i) $$\n",
    "$$ W^{[l]} \\rightarrow \\Big(W^{[l]}  - \\alpha \\frac{\\lambda}{2 m}  W^{[l]} \\Big) - \\alpha \\frac{\\partial J}{\\partial W^{[l]}}$$ \n",
    "\n",
    "- At each iteration regularization tries to reduce magnitude of weight matrix."
   ]
  },
  {
   "cell_type": "markdown",
   "metadata": {
    "slideshow": {
     "slide_type": "slide"
    }
   },
   "source": [
    "#### Implementing L2 regularization in Keras"
   ]
  },
  {
   "cell_type": "code",
   "execution_count": 36,
   "metadata": {
    "slideshow": {
     "slide_type": "fragment"
    }
   },
   "outputs": [],
   "source": [
    "# creates keras regularizer object\n",
    "from tensorflow.keras.regularizers import l2"
   ]
  },
  {
   "cell_type": "markdown",
   "metadata": {
    "cell_style": "center",
    "slideshow": {
     "slide_type": "slide"
    }
   },
   "source": [
    "L2 regularizer object takes in $\\lambda$ parameter as argument"
   ]
  },
  {
   "cell_type": "code",
   "execution_count": 37,
   "metadata": {
    "cell_style": "center",
    "slideshow": {
     "slide_type": "fragment"
    }
   },
   "outputs": [],
   "source": [
    "reg = l2(3e-3) # 1e-5 to .1"
   ]
  },
  {
   "cell_type": "markdown",
   "metadata": {
    "cell_style": "center",
    "slideshow": {
     "slide_type": "slide"
    }
   },
   "source": [
    "Implementing regularization to weights in Keras:\n",
    "- Dense(kernel_regularizer = __)\n",
    "- takes in string ('l2') or regularizer object"
   ]
  },
  {
   "cell_type": "markdown",
   "metadata": {
    "cell_style": "center",
    "slideshow": {
     "slide_type": "fragment"
    }
   },
   "source": [
    "Less common but also used:\n",
    "\n",
    "- can apply regularization to bias terms \n",
    "- Dense(bias_regularizer = __)"
   ]
  },
  {
   "cell_type": "code",
   "execution_count": 38,
   "metadata": {
    "slideshow": {
     "slide_type": "slide"
    }
   },
   "outputs": [],
   "source": [
    "# load in the data\n",
    "(x_train, y_train), (x_test, y_test) = datasets.mnist.load_data()\n",
    "\n",
    "x_train = x_train/255 # normalization\n",
    "x_test = x_test/255\n",
    "\n",
    "# Keras requires multi-class labels to be one-hot encoded\n",
    "y_tr_one_hot = to_categorical(y_train)\n",
    "y_tt_one_hot = to_categorical(y_test)"
   ]
  },
  {
   "cell_type": "code",
   "execution_count": 39,
   "metadata": {
    "slideshow": {
     "slide_type": "slide"
    }
   },
   "outputs": [],
   "source": [
    "model_images = Sequential()\n",
    "model_images.add(Flatten(input_shape=(28, 28))) # flattens each 28x28 image into a vector\n",
    "model_images.add(Dense(32, activation='relu', kernel_regularizer = reg)) # take in regularizer\n",
    "model_images.add(Dense(8, activation='relu', kernel_regularizer = reg))\n",
    "model_images.add(Dense(10, activation='softmax')) # number of units = number of target classes"
   ]
  },
  {
   "cell_type": "code",
   "execution_count": 40,
   "metadata": {
    "slideshow": {
     "slide_type": "fragment"
    }
   },
   "outputs": [],
   "source": [
    "model_images.compile(optimizer='Adam', loss='categorical_crossentropy', metrics=['accuracy'] )"
   ]
  },
  {
   "cell_type": "code",
   "execution_count": 41,
   "metadata": {
    "slideshow": {
     "slide_type": "slide"
    }
   },
   "outputs": [
    {
     "name": "stdout",
     "output_type": "stream",
     "text": [
      "Epoch 1/50\n",
      "1500/1500 [==============================] - 2s 1ms/step - loss: 0.6984 - accuracy: 0.8488 - val_loss: 0.4527 - val_accuracy: 0.9206\n",
      "Epoch 2/50\n",
      "1500/1500 [==============================] - 1s 958us/step - loss: 0.4264 - accuracy: 0.9259 - val_loss: 0.3984 - val_accuracy: 0.9333\n",
      "Epoch 3/50\n",
      "1500/1500 [==============================] - 1s 965us/step - loss: 0.3852 - accuracy: 0.9335 - val_loss: 0.3581 - val_accuracy: 0.9434\n",
      "Epoch 4/50\n",
      "1500/1500 [==============================] - 1s 961us/step - loss: 0.3600 - accuracy: 0.9398 - val_loss: 0.3511 - val_accuracy: 0.9392\n",
      "Epoch 5/50\n",
      "1500/1500 [==============================] - 1s 958us/step - loss: 0.3433 - accuracy: 0.9430 - val_loss: 0.3302 - val_accuracy: 0.9473\n",
      "Epoch 6/50\n",
      "1500/1500 [==============================] - 1s 958us/step - loss: 0.3275 - accuracy: 0.9457 - val_loss: 0.3096 - val_accuracy: 0.9514\n",
      "Epoch 7/50\n",
      "1500/1500 [==============================] - 1s 964us/step - loss: 0.3163 - accuracy: 0.9473 - val_loss: 0.3053 - val_accuracy: 0.9523\n",
      "Epoch 8/50\n",
      "1500/1500 [==============================] - 1s 988us/step - loss: 0.3075 - accuracy: 0.9505 - val_loss: 0.3057 - val_accuracy: 0.9494\n",
      "Epoch 9/50\n",
      "1500/1500 [==============================] - 1s 964us/step - loss: 0.2985 - accuracy: 0.9507 - val_loss: 0.2846 - val_accuracy: 0.9574\n",
      "Epoch 10/50\n",
      "1500/1500 [==============================] - 1s 961us/step - loss: 0.2907 - accuracy: 0.9530 - val_loss: 0.2890 - val_accuracy: 0.9530\n",
      "Epoch 11/50\n",
      "1500/1500 [==============================] - 1s 965us/step - loss: 0.2839 - accuracy: 0.9541 - val_loss: 0.2740 - val_accuracy: 0.9555\n",
      "Epoch 12/50\n",
      "1500/1500 [==============================] - 1s 962us/step - loss: 0.2763 - accuracy: 0.9552 - val_loss: 0.2727 - val_accuracy: 0.9567\n",
      "Epoch 13/50\n",
      "1500/1500 [==============================] - 1s 958us/step - loss: 0.2704 - accuracy: 0.9565 - val_loss: 0.2740 - val_accuracy: 0.9559\n",
      "Epoch 14/50\n",
      "1500/1500 [==============================] - 1s 982us/step - loss: 0.2658 - accuracy: 0.9563 - val_loss: 0.2585 - val_accuracy: 0.9603\n",
      "Epoch 15/50\n",
      "1500/1500 [==============================] - 1s 960us/step - loss: 0.2609 - accuracy: 0.9577 - val_loss: 0.2510 - val_accuracy: 0.9605\n",
      "Epoch 16/50\n",
      "1500/1500 [==============================] - 1s 961us/step - loss: 0.2578 - accuracy: 0.9586 - val_loss: 0.2726 - val_accuracy: 0.9532\n",
      "Epoch 17/50\n",
      "1500/1500 [==============================] - 1s 980us/step - loss: 0.2552 - accuracy: 0.9582 - val_loss: 0.2525 - val_accuracy: 0.9597\n",
      "Epoch 18/50\n",
      "1500/1500 [==============================] - 1s 967us/step - loss: 0.2525 - accuracy: 0.9582 - val_loss: 0.2430 - val_accuracy: 0.9624\n",
      "Epoch 19/50\n",
      "1500/1500 [==============================] - 1s 966us/step - loss: 0.2476 - accuracy: 0.9591 - val_loss: 0.2565 - val_accuracy: 0.9576\n",
      "Epoch 20/50\n",
      "1500/1500 [==============================] - 1s 968us/step - loss: 0.2449 - accuracy: 0.9595 - val_loss: 0.2375 - val_accuracy: 0.9624\n",
      "Epoch 21/50\n",
      "1500/1500 [==============================] - 1s 962us/step - loss: 0.2412 - accuracy: 0.9606 - val_loss: 0.2529 - val_accuracy: 0.9572\n",
      "Epoch 22/50\n",
      "1500/1500 [==============================] - 1s 966us/step - loss: 0.2420 - accuracy: 0.9599 - val_loss: 0.2395 - val_accuracy: 0.9622\n",
      "Epoch 23/50\n",
      "1500/1500 [==============================] - 1s 963us/step - loss: 0.2360 - accuracy: 0.9608 - val_loss: 0.2466 - val_accuracy: 0.9609\n",
      "Epoch 24/50\n",
      "1500/1500 [==============================] - 1s 973us/step - loss: 0.2335 - accuracy: 0.9614 - val_loss: 0.2365 - val_accuracy: 0.9619\n",
      "Epoch 25/50\n",
      "1500/1500 [==============================] - 1s 965us/step - loss: 0.2318 - accuracy: 0.9620 - val_loss: 0.2378 - val_accuracy: 0.9620\n",
      "Epoch 26/50\n",
      "1500/1500 [==============================] - 1s 961us/step - loss: 0.2301 - accuracy: 0.9621 - val_loss: 0.2405 - val_accuracy: 0.9586\n",
      "Epoch 27/50\n",
      "1500/1500 [==============================] - 1s 961us/step - loss: 0.2277 - accuracy: 0.9622 - val_loss: 0.2270 - val_accuracy: 0.9645\n",
      "Epoch 28/50\n",
      "1500/1500 [==============================] - 1s 967us/step - loss: 0.2255 - accuracy: 0.9626 - val_loss: 0.2308 - val_accuracy: 0.9617\n",
      "Epoch 29/50\n",
      "1500/1500 [==============================] - 1s 994us/step - loss: 0.2236 - accuracy: 0.9634 - val_loss: 0.2296 - val_accuracy: 0.9607\n",
      "Epoch 30/50\n",
      "1500/1500 [==============================] - 1s 963us/step - loss: 0.2226 - accuracy: 0.9631 - val_loss: 0.2311 - val_accuracy: 0.9609\n",
      "Epoch 31/50\n",
      "1500/1500 [==============================] - 1s 963us/step - loss: 0.2223 - accuracy: 0.9624 - val_loss: 0.2239 - val_accuracy: 0.9638\n",
      "Epoch 32/50\n",
      "1500/1500 [==============================] - 1s 965us/step - loss: 0.2193 - accuracy: 0.9641 - val_loss: 0.2276 - val_accuracy: 0.9597\n",
      "Epoch 33/50\n",
      "1500/1500 [==============================] - 1s 961us/step - loss: 0.2180 - accuracy: 0.9643 - val_loss: 0.2297 - val_accuracy: 0.9588\n",
      "Epoch 34/50\n",
      "1500/1500 [==============================] - 1s 970us/step - loss: 0.2183 - accuracy: 0.9636 - val_loss: 0.2362 - val_accuracy: 0.9613\n",
      "Epoch 35/50\n",
      "1500/1500 [==============================] - 1s 969us/step - loss: 0.2154 - accuracy: 0.9651 - val_loss: 0.2136 - val_accuracy: 0.9650\n",
      "Epoch 36/50\n",
      "1500/1500 [==============================] - 1s 966us/step - loss: 0.2155 - accuracy: 0.9643 - val_loss: 0.2230 - val_accuracy: 0.9613\n",
      "Epoch 37/50\n",
      "1500/1500 [==============================] - 1s 958us/step - loss: 0.2139 - accuracy: 0.9657 - val_loss: 0.2268 - val_accuracy: 0.9612\n",
      "Epoch 38/50\n",
      "1500/1500 [==============================] - 1s 965us/step - loss: 0.2134 - accuracy: 0.9646 - val_loss: 0.2260 - val_accuracy: 0.9621\n",
      "Epoch 39/50\n",
      "1500/1500 [==============================] - 1s 984us/step - loss: 0.2126 - accuracy: 0.9647 - val_loss: 0.2436 - val_accuracy: 0.9539\n",
      "Epoch 40/50\n",
      "1500/1500 [==============================] - 1s 960us/step - loss: 0.2132 - accuracy: 0.9632 - val_loss: 0.2272 - val_accuracy: 0.9630\n",
      "Epoch 41/50\n",
      "1500/1500 [==============================] - 1s 959us/step - loss: 0.2111 - accuracy: 0.9645 - val_loss: 0.2193 - val_accuracy: 0.9630\n",
      "Epoch 42/50\n",
      "1500/1500 [==============================] - 2s 1ms/step - loss: 0.2099 - accuracy: 0.9642 - val_loss: 0.2281 - val_accuracy: 0.9604\n",
      "Epoch 43/50\n",
      "1500/1500 [==============================] - 2s 1ms/step - loss: 0.2101 - accuracy: 0.9642 - val_loss: 0.2214 - val_accuracy: 0.9618\n",
      "Epoch 44/50\n",
      "1500/1500 [==============================] - 1s 983us/step - loss: 0.2073 - accuracy: 0.9656 - val_loss: 0.2304 - val_accuracy: 0.9591\n",
      "Epoch 45/50\n",
      "1500/1500 [==============================] - 2s 1ms/step - loss: 0.2082 - accuracy: 0.9642 - val_loss: 0.2079 - val_accuracy: 0.9658\n",
      "Epoch 46/50\n",
      "1500/1500 [==============================] - 1s 989us/step - loss: 0.2070 - accuracy: 0.9654 - val_loss: 0.2257 - val_accuracy: 0.9594\n",
      "Epoch 47/50\n",
      "1500/1500 [==============================] - 1s 992us/step - loss: 0.2061 - accuracy: 0.9652 - val_loss: 0.2307 - val_accuracy: 0.9567\n",
      "Epoch 48/50\n",
      "1500/1500 [==============================] - 2s 1ms/step - loss: 0.2059 - accuracy: 0.9653 - val_loss: 0.2096 - val_accuracy: 0.9635\n",
      "Epoch 49/50\n",
      "1500/1500 [==============================] - 1s 996us/step - loss: 0.2048 - accuracy: 0.9651 - val_loss: 0.2173 - val_accuracy: 0.9623\n",
      "Epoch 50/50\n",
      "1500/1500 [==============================] - 1s 970us/step - loss: 0.2046 - accuracy: 0.9661 - val_loss: 0.2198 - val_accuracy: 0.9628\n"
     ]
    }
   ],
   "source": [
    "# verbose=1 allows you to see the output.\n",
    "# To see only the metrics at the end of each epoch, set verbose=2.\n",
    "history_mnist = model_images.fit(x_train, y_tr_one_hot, epochs=50, batch_size= 32, validation_split = 0.2)"
   ]
  },
  {
   "cell_type": "code",
   "execution_count": 42,
   "metadata": {
    "cell_style": "center",
    "slideshow": {
     "slide_type": "slide"
    }
   },
   "outputs": [
    {
     "name": "stdout",
     "output_type": "stream",
     "text": [
      "313/313 [==============================] - 0s 556us/step\n"
     ]
    },
    {
     "data": {
      "text/plain": [
       "array([[2.68917893e-06, 1.05269655e-05, 1.60409927e-05, ...,\n",
       "        9.97948110e-01, 2.78384573e-06, 5.39647635e-06],\n",
       "       [1.48021054e-05, 9.44186933e-04, 9.93831396e-01, ...,\n",
       "        3.14410063e-05, 1.47382542e-03, 2.41341755e-08],\n",
       "       [6.94259029e-07, 9.96838927e-01, 6.08889444e-04, ...,\n",
       "        9.23834625e-04, 1.14488695e-03, 3.58768887e-07],\n",
       "       ...,\n",
       "       [6.21587617e-08, 2.09425011e-07, 2.58128585e-09, ...,\n",
       "        8.64193498e-05, 4.88544611e-05, 1.97654311e-02],\n",
       "       [1.63038596e-04, 1.13020576e-06, 5.53476092e-08, ...,\n",
       "        9.52684843e-07, 1.32864434e-03, 2.67913890e-07],\n",
       "       [1.47434312e-05, 1.08579961e-07, 3.30873678e-04, ...,\n",
       "        1.05701081e-09, 2.68610751e-08, 4.07173496e-11]], dtype=float32)"
      ]
     },
     "execution_count": 42,
     "metadata": {},
     "output_type": "execute_result"
    }
   ],
   "source": [
    "# probability for each class\n",
    "y_proba = model_images.predict(x_test)\n",
    "y_proba"
   ]
  },
  {
   "cell_type": "code",
   "execution_count": 43,
   "metadata": {
    "cell_style": "center",
    "slideshow": {
     "slide_type": "fragment"
    }
   },
   "outputs": [
    {
     "name": "stdout",
     "output_type": "stream",
     "text": [
      "313/313 - 0s - loss: 0.2115 - accuracy: 0.9623 - 273ms/epoch - 871us/step\n"
     ]
    },
    {
     "data": {
      "text/plain": [
       "[0.21145407855510712, 0.9623000025749207]"
      ]
     },
     "execution_count": 43,
     "metadata": {},
     "output_type": "execute_result"
    }
   ],
   "source": [
    "model_images.evaluate(x_test, y_tt_one_hot, verbose = 2)"
   ]
  },
  {
   "cell_type": "code",
   "execution_count": 44,
   "metadata": {
    "cell_style": "center",
    "slideshow": {
     "slide_type": "slide"
    }
   },
   "outputs": [
    {
     "data": {
      "image/png": "[encoded data removed]",
      "text/plain": [
       "<Figure size 640x480 with 1 Axes>"
      ]
     },
     "metadata": {},
     "output_type": "display_data"
    }
   ],
   "source": [
    "train_mnist_history = pd.DataFrame(history_mnist.history)\n",
    "train_mnist_history.index.name = 'epochs'\n",
    "\n",
    "col_list = ['loss', 'val_loss']\n",
    "train_mnist_history[col_list].plot()\n",
    "plt.ylabel('Categorical cross entropy')\n",
    "plt.title('Training loss history')\n",
    "plt.show()"
   ]
  },
  {
   "cell_type": "code",
   "execution_count": 45,
   "metadata": {
    "cell_style": "split",
    "slideshow": {
     "slide_type": "slide"
    }
   },
   "outputs": [
    {
     "data": {
      "image/png": "[encoded data removed]",
      "text/plain": [
       "<Figure size 640x480 with 1 Axes>"
      ]
     },
     "metadata": {},
     "output_type": "display_data"
    }
   ],
   "source": [
    "col_list = ['accuracy', 'val_accuracy']\n",
    "train_mnist_history[col_list].plot()\n",
    "plt.ylabel('Accuracy')\n",
    "plt.title('Training loss history')\n",
    "plt.show()"
   ]
  },
  {
   "cell_type": "markdown",
   "metadata": {
    "cell_style": "split",
    "slideshow": {
     "slide_type": "fragment"
    }
   },
   "source": [
    "Better validation accuracy:\n",
    "- 94.5\\% to 96.3\\% with regularization\n",
    "- no overfitting"
   ]
  },
  {
   "cell_type": "code",
   "execution_count": 46,
   "metadata": {
    "slideshow": {
     "slide_type": "slide"
    }
   },
   "outputs": [
    {
     "data": {
      "text/plain": [
       "array([7, 2, 1, ..., 4, 5, 6])"
      ]
     },
     "execution_count": 46,
     "metadata": {},
     "output_type": "execute_result"
    }
   ],
   "source": [
    "# argmax axis = -1 gets the column index of maximum probability for each row.\n",
    "# column index corresponds to digit classes (numbers 0 -9)\n",
    "predicted = np.argmax(y_proba, axis=-1)\n",
    "predicted"
   ]
  },
  {
   "cell_type": "code",
   "execution_count": 47,
   "metadata": {
    "cell_style": "center",
    "scrolled": false,
    "slideshow": {
     "slide_type": "slide"
    }
   },
   "outputs": [
    {
     "data": {
      "image/png": "[encoded data removed]",
      "text/plain": [
       "<Figure size 640x480 with 2 Axes>"
      ]
     },
     "metadata": {},
     "output_type": "display_data"
    }
   ],
   "source": [
    "cm_digits = confusion_matrix(y_test, predicted)\n",
    "disp = ConfusionMatrixDisplay(\n",
    "    confusion_matrix=cm_digits)\n",
    "\n",
    "disp.plot(cmap=plt.cm.Blues)\n",
    "plt.show()"
   ]
  },
  {
   "cell_type": "markdown",
   "metadata": {
    "slideshow": {
     "slide_type": "slide"
    }
   },
   "source": [
    "Regularization: \n",
    "- key component to training deeper networks (tend to overfit without regularization)\n",
    "- learn higher order features, but don't overtrain on specifics."
   ]
  },
  {
   "cell_type": "code",
   "execution_count": 48,
   "metadata": {
    "slideshow": {
     "slide_type": "fragment"
    }
   },
   "outputs": [],
   "source": [
    "deepermodel_images = Sequential()\n",
    "deepermodel_images.add(Flatten(input_shape=(28, 28))) # flattens each 28x28 image into a vector\n",
    "deepermodel_images.add(Dense(32, activation='relu', kernel_regularizer = reg)) # take in regularizer\n",
    "deepermodel_images.add(Dense(16, activation='relu', kernel_regularizer = reg)) # add another layer\n",
    "deepermodel_images.add(Dense(16, activation='relu', kernel_regularizer = reg)) # add another layer\n",
    "deepermodel_images.add(Dense(10, activation='relu', kernel_regularizer = reg))\n",
    "deepermodel_images.add(Dense(10, activation='softmax')) # number of units = number of target classes\n",
    "\n",
    "deepermodel_images.compile(optimizer='Adam', loss='categorical_crossentropy', metrics=['accuracy'] )"
   ]
  },
  {
   "cell_type": "code",
   "execution_count": 49,
   "metadata": {
    "scrolled": true,
    "slideshow": {
     "slide_type": "slide"
    }
   },
   "outputs": [
    {
     "name": "stdout",
     "output_type": "stream",
     "text": [
      "Epoch 1/200\n",
      "1500/1500 [==============================] - 2s 1ms/step - loss: 0.8337 - accuracy: 0.8223 - val_loss: 0.5475 - val_accuracy: 0.9081\n",
      "Epoch 2/200\n",
      "1500/1500 [==============================] - 2s 1ms/step - loss: 0.4888 - accuracy: 0.9247 - val_loss: 0.4575 - val_accuracy: 0.9303\n",
      "Epoch 3/200\n",
      "1500/1500 [==============================] - 2s 1ms/step - loss: 0.4395 - accuracy: 0.9335 - val_loss: 0.4364 - val_accuracy: 0.9318\n",
      "Epoch 4/200\n",
      "1500/1500 [==============================] - 2s 1ms/step - loss: 0.4123 - accuracy: 0.9379 - val_loss: 0.4034 - val_accuracy: 0.9389\n",
      "Epoch 5/200\n",
      "1500/1500 [==============================] - 2s 1ms/step - loss: 0.3903 - accuracy: 0.9432 - val_loss: 0.3744 - val_accuracy: 0.9480\n",
      "Epoch 6/200\n",
      "1500/1500 [==============================] - 2s 1ms/step - loss: 0.3766 - accuracy: 0.9430 - val_loss: 0.3661 - val_accuracy: 0.9471\n",
      "Epoch 7/200\n",
      "1500/1500 [==============================] - 2s 1ms/step - loss: 0.3652 - accuracy: 0.9462 - val_loss: 0.3826 - val_accuracy: 0.9405\n",
      "Epoch 8/200\n",
      "1500/1500 [==============================] - 2s 1ms/step - loss: 0.3560 - accuracy: 0.9484 - val_loss: 0.3633 - val_accuracy: 0.9461\n",
      "Epoch 9/200\n",
      "1500/1500 [==============================] - 2s 1ms/step - loss: 0.3497 - accuracy: 0.9483 - val_loss: 0.3295 - val_accuracy: 0.9562\n",
      "Epoch 10/200\n",
      "1500/1500 [==============================] - 2s 1ms/step - loss: 0.3436 - accuracy: 0.9496 - val_loss: 0.3631 - val_accuracy: 0.9482\n",
      "Epoch 11/200\n",
      "1500/1500 [==============================] - 2s 1ms/step - loss: 0.3366 - accuracy: 0.9523 - val_loss: 0.3286 - val_accuracy: 0.9557\n",
      "Epoch 12/200\n",
      "1500/1500 [==============================] - 2s 1ms/step - loss: 0.3295 - accuracy: 0.9529 - val_loss: 0.3436 - val_accuracy: 0.9506\n",
      "Epoch 13/200\n",
      "1500/1500 [==============================] - 2s 1ms/step - loss: 0.3251 - accuracy: 0.9523 - val_loss: 0.3249 - val_accuracy: 0.9542\n",
      "Epoch 14/200\n",
      "1500/1500 [==============================] - 2s 1ms/step - loss: 0.3192 - accuracy: 0.9542 - val_loss: 0.3245 - val_accuracy: 0.9528\n",
      "Epoch 15/200\n",
      "1500/1500 [==============================] - 2s 1ms/step - loss: 0.3159 - accuracy: 0.9540 - val_loss: 0.3148 - val_accuracy: 0.9558\n",
      "Epoch 16/200\n",
      "1500/1500 [==============================] - 2s 1ms/step - loss: 0.3121 - accuracy: 0.9558 - val_loss: 0.3099 - val_accuracy: 0.9571\n",
      "Epoch 17/200\n",
      "1500/1500 [==============================] - 2s 1ms/step - loss: 0.3080 - accuracy: 0.9559 - val_loss: 0.3121 - val_accuracy: 0.9557\n",
      "Epoch 18/200\n",
      "1500/1500 [==============================] - 2s 1ms/step - loss: 0.3034 - accuracy: 0.9564 - val_loss: 0.2994 - val_accuracy: 0.9589\n",
      "Epoch 19/200\n",
      "1500/1500 [==============================] - 2s 1ms/step - loss: 0.3021 - accuracy: 0.9560 - val_loss: 0.3272 - val_accuracy: 0.9503\n",
      "Epoch 20/200\n",
      "1500/1500 [==============================] - 2s 1ms/step - loss: 0.2993 - accuracy: 0.9560 - val_loss: 0.3142 - val_accuracy: 0.9525\n",
      "Epoch 21/200\n",
      "1500/1500 [==============================] - 2s 1ms/step - loss: 0.2947 - accuracy: 0.9585 - val_loss: 0.3171 - val_accuracy: 0.9512\n",
      "Epoch 22/200\n",
      "1500/1500 [==============================] - 2s 1ms/step - loss: 0.2965 - accuracy: 0.9570 - val_loss: 0.2977 - val_accuracy: 0.9578\n",
      "Epoch 23/200\n",
      "1500/1500 [==============================] - 2s 1ms/step - loss: 0.2892 - accuracy: 0.9584 - val_loss: 0.3207 - val_accuracy: 0.9519\n",
      "Epoch 24/200\n",
      "1500/1500 [==============================] - 2s 1ms/step - loss: 0.2901 - accuracy: 0.9574 - val_loss: 0.2904 - val_accuracy: 0.9583\n",
      "Epoch 25/200\n",
      "1500/1500 [==============================] - 2s 1ms/step - loss: 0.2901 - accuracy: 0.9581 - val_loss: 0.2959 - val_accuracy: 0.9600\n",
      "Epoch 26/200\n",
      "1500/1500 [==============================] - 2s 1ms/step - loss: 0.2841 - accuracy: 0.9592 - val_loss: 0.3079 - val_accuracy: 0.9548\n",
      "Epoch 27/200\n",
      "1500/1500 [==============================] - 2s 1ms/step - loss: 0.2847 - accuracy: 0.9575 - val_loss: 0.2853 - val_accuracy: 0.9603\n",
      "Epoch 28/200\n",
      "1500/1500 [==============================] - 2s 1ms/step - loss: 0.2820 - accuracy: 0.9591 - val_loss: 0.2780 - val_accuracy: 0.9615\n",
      "Epoch 29/200\n",
      "1500/1500 [==============================] - 2s 1ms/step - loss: 0.2819 - accuracy: 0.9587 - val_loss: 0.2838 - val_accuracy: 0.9611\n",
      "Epoch 30/200\n",
      "1500/1500 [==============================] - 2s 1ms/step - loss: 0.2788 - accuracy: 0.9592 - val_loss: 0.2948 - val_accuracy: 0.9547\n",
      "Epoch 31/200\n",
      "1500/1500 [==============================] - 2s 1ms/step - loss: 0.2778 - accuracy: 0.9594 - val_loss: 0.2749 - val_accuracy: 0.9629\n",
      "Epoch 32/200\n",
      "1500/1500 [==============================] - 2s 1ms/step - loss: 0.2745 - accuracy: 0.9594 - val_loss: 0.2771 - val_accuracy: 0.9608\n",
      "Epoch 33/200\n",
      "1500/1500 [==============================] - 2s 1ms/step - loss: 0.2737 - accuracy: 0.9597 - val_loss: 0.2878 - val_accuracy: 0.9582\n",
      "Epoch 34/200\n",
      "1500/1500 [==============================] - 2s 1ms/step - loss: 0.2716 - accuracy: 0.9618 - val_loss: 0.2713 - val_accuracy: 0.9627\n",
      "Epoch 35/200\n",
      "1500/1500 [==============================] - 2s 1ms/step - loss: 0.2694 - accuracy: 0.9615 - val_loss: 0.2814 - val_accuracy: 0.9617\n",
      "Epoch 36/200\n",
      "1500/1500 [==============================] - 2s 1ms/step - loss: 0.2692 - accuracy: 0.9606 - val_loss: 0.2803 - val_accuracy: 0.9592\n",
      "Epoch 37/200\n",
      "1500/1500 [==============================] - 2s 1ms/step - loss: 0.2684 - accuracy: 0.9621 - val_loss: 0.2760 - val_accuracy: 0.9617\n",
      "Epoch 38/200\n",
      "1500/1500 [==============================] - 2s 1ms/step - loss: 0.2660 - accuracy: 0.9614 - val_loss: 0.2832 - val_accuracy: 0.9590\n",
      "Epoch 39/200\n",
      "1500/1500 [==============================] - 2s 1ms/step - loss: 0.2674 - accuracy: 0.9615 - val_loss: 0.2749 - val_accuracy: 0.9595\n",
      "Epoch 40/200\n",
      "1500/1500 [==============================] - 2s 1ms/step - loss: 0.2631 - accuracy: 0.9625 - val_loss: 0.2688 - val_accuracy: 0.9617\n",
      "Epoch 41/200\n",
      "1500/1500 [==============================] - 2s 1ms/step - loss: 0.2630 - accuracy: 0.9621 - val_loss: 0.2652 - val_accuracy: 0.9632\n",
      "Epoch 42/200\n",
      "1500/1500 [==============================] - 2s 1ms/step - loss: 0.2626 - accuracy: 0.9622 - val_loss: 0.2854 - val_accuracy: 0.9567\n",
      "Epoch 43/200\n",
      "1500/1500 [==============================] - 2s 1ms/step - loss: 0.2617 - accuracy: 0.9624 - val_loss: 0.2739 - val_accuracy: 0.9575\n",
      "Epoch 44/200\n",
      "1500/1500 [==============================] - 2s 1ms/step - loss: 0.2585 - accuracy: 0.9629 - val_loss: 0.2788 - val_accuracy: 0.9564\n",
      "Epoch 45/200\n",
      "1500/1500 [==============================] - 2s 1ms/step - loss: 0.2587 - accuracy: 0.9625 - val_loss: 0.2582 - val_accuracy: 0.9654\n",
      "Epoch 46/200\n",
      "1500/1500 [==============================] - 2s 1ms/step - loss: 0.2580 - accuracy: 0.9629 - val_loss: 0.2780 - val_accuracy: 0.9592\n",
      "Epoch 47/200\n",
      "1500/1500 [==============================] - 2s 1ms/step - loss: 0.2548 - accuracy: 0.9644 - val_loss: 0.2582 - val_accuracy: 0.9653\n",
      "Epoch 48/200\n",
      "1500/1500 [==============================] - 2s 1ms/step - loss: 0.2553 - accuracy: 0.9645 - val_loss: 0.2734 - val_accuracy: 0.9573\n",
      "Epoch 49/200\n",
      "1500/1500 [==============================] - 2s 1ms/step - loss: 0.2535 - accuracy: 0.9644 - val_loss: 0.2748 - val_accuracy: 0.9552\n",
      "Epoch 50/200\n",
      "1500/1500 [==============================] - 2s 1ms/step - loss: 0.2534 - accuracy: 0.9643 - val_loss: 0.2776 - val_accuracy: 0.9583\n",
      "Epoch 51/200\n",
      "1500/1500 [==============================] - 2s 1ms/step - loss: 0.2524 - accuracy: 0.9632 - val_loss: 0.2540 - val_accuracy: 0.9653\n",
      "Epoch 52/200\n",
      "1500/1500 [==============================] - 2s 1ms/step - loss: 0.2530 - accuracy: 0.9632 - val_loss: 0.2696 - val_accuracy: 0.9588\n",
      "Epoch 53/200\n",
      "1500/1500 [==============================] - 2s 1ms/step - loss: 0.2500 - accuracy: 0.9638 - val_loss: 0.2753 - val_accuracy: 0.9592\n",
      "Epoch 54/200\n",
      "1500/1500 [==============================] - 2s 1ms/step - loss: 0.2504 - accuracy: 0.9638 - val_loss: 0.2452 - val_accuracy: 0.9670\n",
      "Epoch 55/200\n",
      "1500/1500 [==============================] - 2s 1ms/step - loss: 0.2499 - accuracy: 0.9646 - val_loss: 0.2540 - val_accuracy: 0.9633\n",
      "Epoch 56/200\n",
      "1500/1500 [==============================] - 2s 1ms/step - loss: 0.2497 - accuracy: 0.9639 - val_loss: 0.2750 - val_accuracy: 0.9550\n",
      "Epoch 57/200\n"
     ]
    },
    {
     "name": "stdout",
     "output_type": "stream",
     "text": [
      "1500/1500 [==============================] - 2s 1ms/step - loss: 0.2471 - accuracy: 0.9648 - val_loss: 0.2740 - val_accuracy: 0.9582\n",
      "Epoch 58/200\n",
      "1500/1500 [==============================] - 2s 1ms/step - loss: 0.2476 - accuracy: 0.9641 - val_loss: 0.2662 - val_accuracy: 0.9608\n",
      "Epoch 59/200\n",
      "1500/1500 [==============================] - 2s 1ms/step - loss: 0.2491 - accuracy: 0.9637 - val_loss: 0.2661 - val_accuracy: 0.9598\n",
      "Epoch 60/200\n",
      "1500/1500 [==============================] - 2s 1ms/step - loss: 0.2459 - accuracy: 0.9646 - val_loss: 0.2649 - val_accuracy: 0.9621\n",
      "Epoch 61/200\n",
      "1500/1500 [==============================] - 2s 1ms/step - loss: 0.2466 - accuracy: 0.9639 - val_loss: 0.2511 - val_accuracy: 0.9635\n",
      "Epoch 62/200\n",
      "1500/1500 [==============================] - 2s 1ms/step - loss: 0.2450 - accuracy: 0.9652 - val_loss: 0.2588 - val_accuracy: 0.9628\n",
      "Epoch 63/200\n",
      "1500/1500 [==============================] - 2s 1ms/step - loss: 0.2441 - accuracy: 0.9650 - val_loss: 0.2476 - val_accuracy: 0.9624\n",
      "Epoch 64/200\n",
      "1500/1500 [==============================] - 2s 1ms/step - loss: 0.2461 - accuracy: 0.9643 - val_loss: 0.2430 - val_accuracy: 0.9635\n",
      "Epoch 65/200\n",
      "1500/1500 [==============================] - 2s 1ms/step - loss: 0.2456 - accuracy: 0.9642 - val_loss: 0.2551 - val_accuracy: 0.9639\n",
      "Epoch 66/200\n",
      "1500/1500 [==============================] - 2s 1ms/step - loss: 0.2421 - accuracy: 0.9657 - val_loss: 0.2497 - val_accuracy: 0.9643\n",
      "Epoch 67/200\n",
      "1500/1500 [==============================] - 2s 1ms/step - loss: 0.2455 - accuracy: 0.9640 - val_loss: 0.2598 - val_accuracy: 0.9604\n",
      "Epoch 68/200\n",
      "1500/1500 [==============================] - 2s 1ms/step - loss: 0.2410 - accuracy: 0.9662 - val_loss: 0.2692 - val_accuracy: 0.9601\n",
      "Epoch 69/200\n",
      "1500/1500 [==============================] - 2s 1ms/step - loss: 0.2444 - accuracy: 0.9643 - val_loss: 0.2518 - val_accuracy: 0.9636\n",
      "Epoch 70/200\n",
      "1500/1500 [==============================] - 2s 1ms/step - loss: 0.2418 - accuracy: 0.9634 - val_loss: 0.2890 - val_accuracy: 0.9494\n",
      "Epoch 71/200\n",
      "1500/1500 [==============================] - 2s 1ms/step - loss: 0.2429 - accuracy: 0.9649 - val_loss: 0.2432 - val_accuracy: 0.9659\n",
      "Epoch 72/200\n",
      "1500/1500 [==============================] - 2s 1ms/step - loss: 0.2412 - accuracy: 0.9646 - val_loss: 0.2572 - val_accuracy: 0.9621\n",
      "Epoch 73/200\n",
      "1500/1500 [==============================] - 2s 1ms/step - loss: 0.2401 - accuracy: 0.9649 - val_loss: 0.2485 - val_accuracy: 0.9644\n",
      "Epoch 74/200\n",
      "1500/1500 [==============================] - 2s 1ms/step - loss: 0.2407 - accuracy: 0.9644 - val_loss: 0.2531 - val_accuracy: 0.9597\n",
      "Epoch 75/200\n",
      "1500/1500 [==============================] - 2s 1ms/step - loss: 0.2389 - accuracy: 0.9647 - val_loss: 0.2449 - val_accuracy: 0.9665\n",
      "Epoch 76/200\n",
      "1500/1500 [==============================] - 2s 1ms/step - loss: 0.2408 - accuracy: 0.9650 - val_loss: 0.2696 - val_accuracy: 0.9579\n",
      "Epoch 77/200\n",
      "1500/1500 [==============================] - 2s 1ms/step - loss: 0.2382 - accuracy: 0.9650 - val_loss: 0.2627 - val_accuracy: 0.9582\n",
      "Epoch 78/200\n",
      "1500/1500 [==============================] - 2s 1ms/step - loss: 0.2389 - accuracy: 0.9655 - val_loss: 0.2461 - val_accuracy: 0.9653\n",
      "Epoch 79/200\n",
      "1500/1500 [==============================] - 2s 1ms/step - loss: 0.2355 - accuracy: 0.9666 - val_loss: 0.2623 - val_accuracy: 0.9606\n",
      "Epoch 80/200\n",
      "1500/1500 [==============================] - 2s 1ms/step - loss: 0.2376 - accuracy: 0.9657 - val_loss: 0.2413 - val_accuracy: 0.9649\n",
      "Epoch 81/200\n",
      "1500/1500 [==============================] - 2s 1ms/step - loss: 0.2356 - accuracy: 0.9657 - val_loss: 0.2442 - val_accuracy: 0.9661\n",
      "Epoch 82/200\n",
      "1500/1500 [==============================] - 2s 1ms/step - loss: 0.2377 - accuracy: 0.9656 - val_loss: 0.2486 - val_accuracy: 0.9639\n",
      "Epoch 83/200\n",
      "1500/1500 [==============================] - 2s 1ms/step - loss: 0.2371 - accuracy: 0.9656 - val_loss: 0.2422 - val_accuracy: 0.9636\n",
      "Epoch 84/200\n",
      "1500/1500 [==============================] - 2s 1ms/step - loss: 0.2366 - accuracy: 0.9657 - val_loss: 0.2412 - val_accuracy: 0.9652\n",
      "Epoch 85/200\n",
      "1500/1500 [==============================] - 2s 1ms/step - loss: 0.2375 - accuracy: 0.9647 - val_loss: 0.2525 - val_accuracy: 0.9619\n",
      "Epoch 86/200\n",
      "1500/1500 [==============================] - 2s 1ms/step - loss: 0.2363 - accuracy: 0.9655 - val_loss: 0.2456 - val_accuracy: 0.9650\n",
      "Epoch 87/200\n",
      "1500/1500 [==============================] - 2s 1ms/step - loss: 0.2363 - accuracy: 0.9654 - val_loss: 0.2409 - val_accuracy: 0.9641\n",
      "Epoch 88/200\n",
      "1500/1500 [==============================] - 2s 1ms/step - loss: 0.2375 - accuracy: 0.9643 - val_loss: 0.2492 - val_accuracy: 0.9628\n",
      "Epoch 89/200\n",
      "1500/1500 [==============================] - 2s 1ms/step - loss: 0.2343 - accuracy: 0.9657 - val_loss: 0.2425 - val_accuracy: 0.9657\n",
      "Epoch 90/200\n",
      "1500/1500 [==============================] - 2s 1ms/step - loss: 0.2340 - accuracy: 0.9656 - val_loss: 0.2621 - val_accuracy: 0.9588\n",
      "Epoch 91/200\n",
      "1500/1500 [==============================] - 2s 1ms/step - loss: 0.2358 - accuracy: 0.9651 - val_loss: 0.2348 - val_accuracy: 0.9678\n",
      "Epoch 92/200\n",
      "1500/1500 [==============================] - 2s 1ms/step - loss: 0.2349 - accuracy: 0.9644 - val_loss: 0.2422 - val_accuracy: 0.9634\n",
      "Epoch 93/200\n",
      "1500/1500 [==============================] - 2s 1ms/step - loss: 0.2332 - accuracy: 0.9659 - val_loss: 0.2486 - val_accuracy: 0.9617\n",
      "Epoch 94/200\n",
      "1500/1500 [==============================] - 2s 1ms/step - loss: 0.2349 - accuracy: 0.9649 - val_loss: 0.2525 - val_accuracy: 0.9592\n",
      "Epoch 95/200\n",
      "1500/1500 [==============================] - 2s 1ms/step - loss: 0.2319 - accuracy: 0.9661 - val_loss: 0.2545 - val_accuracy: 0.9607\n",
      "Epoch 96/200\n",
      "1500/1500 [==============================] - 2s 1ms/step - loss: 0.2337 - accuracy: 0.9654 - val_loss: 0.2374 - val_accuracy: 0.9657\n",
      "Epoch 97/200\n",
      "1500/1500 [==============================] - 2s 1ms/step - loss: 0.2348 - accuracy: 0.9646 - val_loss: 0.2474 - val_accuracy: 0.9622\n",
      "Epoch 98/200\n",
      "1500/1500 [==============================] - 2s 1ms/step - loss: 0.2290 - accuracy: 0.9670 - val_loss: 0.2756 - val_accuracy: 0.9545\n",
      "Epoch 99/200\n",
      "1500/1500 [==============================] - 2s 1ms/step - loss: 0.2339 - accuracy: 0.9651 - val_loss: 0.2485 - val_accuracy: 0.9607\n",
      "Epoch 100/200\n",
      "1500/1500 [==============================] - 2s 1ms/step - loss: 0.2341 - accuracy: 0.9651 - val_loss: 0.2521 - val_accuracy: 0.9607\n",
      "Epoch 101/200\n",
      "1500/1500 [==============================] - 2s 1ms/step - loss: 0.2325 - accuracy: 0.9655 - val_loss: 0.2493 - val_accuracy: 0.9597\n",
      "Epoch 102/200\n",
      "1500/1500 [==============================] - 2s 1ms/step - loss: 0.2324 - accuracy: 0.9655 - val_loss: 0.2411 - val_accuracy: 0.9623\n",
      "Epoch 103/200\n",
      "1500/1500 [==============================] - 2s 1ms/step - loss: 0.2349 - accuracy: 0.9642 - val_loss: 0.2436 - val_accuracy: 0.9628\n",
      "Epoch 104/200\n",
      "1500/1500 [==============================] - 2s 1ms/step - loss: 0.2321 - accuracy: 0.9655 - val_loss: 0.2393 - val_accuracy: 0.9644\n",
      "Epoch 105/200\n",
      "1500/1500 [==============================] - 2s 1ms/step - loss: 0.2310 - accuracy: 0.9656 - val_loss: 0.2408 - val_accuracy: 0.9630\n",
      "Epoch 106/200\n",
      "1500/1500 [==============================] - 2s 1ms/step - loss: 0.2326 - accuracy: 0.9643 - val_loss: 0.2461 - val_accuracy: 0.9606\n",
      "Epoch 107/200\n",
      "1500/1500 [==============================] - 2s 1ms/step - loss: 0.2324 - accuracy: 0.9651 - val_loss: 0.2317 - val_accuracy: 0.9667\n",
      "Epoch 108/200\n",
      "1500/1500 [==============================] - 2s 1ms/step - loss: 0.2287 - accuracy: 0.9658 - val_loss: 0.2746 - val_accuracy: 0.9534\n",
      "Epoch 109/200\n",
      "1500/1500 [==============================] - 2s 1ms/step - loss: 0.2300 - accuracy: 0.9653 - val_loss: 0.2566 - val_accuracy: 0.9569\n",
      "Epoch 110/200\n",
      "1500/1500 [==============================] - 2s 1ms/step - loss: 0.2313 - accuracy: 0.9656 - val_loss: 0.2420 - val_accuracy: 0.9621\n",
      "Epoch 111/200\n",
      "1500/1500 [==============================] - 2s 1ms/step - loss: 0.2289 - accuracy: 0.9664 - val_loss: 0.2462 - val_accuracy: 0.9621\n",
      "Epoch 112/200\n",
      "1500/1500 [==============================] - 2s 1ms/step - loss: 0.2287 - accuracy: 0.9661 - val_loss: 0.2653 - val_accuracy: 0.9551\n",
      "Epoch 113/200\n"
     ]
    },
    {
     "name": "stdout",
     "output_type": "stream",
     "text": [
      "1500/1500 [==============================] - 1s 996us/step - loss: 0.2315 - accuracy: 0.9651 - val_loss: 0.2447 - val_accuracy: 0.9637\n",
      "Epoch 114/200\n",
      "1500/1500 [==============================] - 2s 1ms/step - loss: 0.2308 - accuracy: 0.9652 - val_loss: 0.2519 - val_accuracy: 0.9618\n",
      "Epoch 115/200\n",
      "1500/1500 [==============================] - 2s 1ms/step - loss: 0.2295 - accuracy: 0.9659 - val_loss: 0.2484 - val_accuracy: 0.9607\n",
      "Epoch 116/200\n",
      "1500/1500 [==============================] - 1s 999us/step - loss: 0.2315 - accuracy: 0.9645 - val_loss: 0.2445 - val_accuracy: 0.9621\n",
      "Epoch 117/200\n",
      "1500/1500 [==============================] - 1s 999us/step - loss: 0.2290 - accuracy: 0.9654 - val_loss: 0.2418 - val_accuracy: 0.9618\n",
      "Epoch 118/200\n",
      "1500/1500 [==============================] - 2s 1ms/step - loss: 0.2283 - accuracy: 0.9655 - val_loss: 0.2433 - val_accuracy: 0.9621\n",
      "Epoch 119/200\n",
      "1500/1500 [==============================] - 1s 1000us/step - loss: 0.2308 - accuracy: 0.9642 - val_loss: 0.2489 - val_accuracy: 0.9620\n",
      "Epoch 120/200\n",
      "1500/1500 [==============================] - 2s 1ms/step - loss: 0.2282 - accuracy: 0.9654 - val_loss: 0.2407 - val_accuracy: 0.9647\n",
      "Epoch 121/200\n",
      "1500/1500 [==============================] - 2s 1ms/step - loss: 0.2261 - accuracy: 0.9656 - val_loss: 0.2391 - val_accuracy: 0.9650\n",
      "Epoch 122/200\n",
      "1500/1500 [==============================] - 2s 1ms/step - loss: 0.2275 - accuracy: 0.9658 - val_loss: 0.2852 - val_accuracy: 0.9492\n",
      "Epoch 123/200\n",
      "1500/1500 [==============================] - 2s 1ms/step - loss: 0.2278 - accuracy: 0.9656 - val_loss: 0.2432 - val_accuracy: 0.9620\n",
      "Epoch 124/200\n",
      "1500/1500 [==============================] - 2s 1ms/step - loss: 0.2256 - accuracy: 0.9661 - val_loss: 0.2314 - val_accuracy: 0.9661\n",
      "Epoch 125/200\n",
      "1500/1500 [==============================] - 2s 1ms/step - loss: 0.2296 - accuracy: 0.9646 - val_loss: 0.2471 - val_accuracy: 0.9629\n",
      "Epoch 126/200\n",
      "1500/1500 [==============================] - 2s 1ms/step - loss: 0.2259 - accuracy: 0.9662 - val_loss: 0.2356 - val_accuracy: 0.9659\n",
      "Epoch 127/200\n",
      "1500/1500 [==============================] - 2s 1ms/step - loss: 0.2250 - accuracy: 0.9670 - val_loss: 0.2458 - val_accuracy: 0.9621\n",
      "Epoch 128/200\n",
      "1500/1500 [==============================] - 2s 1ms/step - loss: 0.2276 - accuracy: 0.9665 - val_loss: 0.2408 - val_accuracy: 0.9617\n",
      "Epoch 129/200\n",
      "1500/1500 [==============================] - 2s 1ms/step - loss: 0.2262 - accuracy: 0.9659 - val_loss: 0.2743 - val_accuracy: 0.9524\n",
      "Epoch 130/200\n",
      "1500/1500 [==============================] - 2s 1ms/step - loss: 0.2262 - accuracy: 0.9655 - val_loss: 0.2505 - val_accuracy: 0.9614\n",
      "Epoch 131/200\n",
      "1500/1500 [==============================] - 2s 1ms/step - loss: 0.2268 - accuracy: 0.9655 - val_loss: 0.2435 - val_accuracy: 0.9614\n",
      "Epoch 132/200\n",
      "1500/1500 [==============================] - 2s 1ms/step - loss: 0.2265 - accuracy: 0.9659 - val_loss: 0.2461 - val_accuracy: 0.9617\n",
      "Epoch 133/200\n",
      "1500/1500 [==============================] - 2s 1ms/step - loss: 0.2262 - accuracy: 0.9667 - val_loss: 0.2686 - val_accuracy: 0.9506\n",
      "Epoch 134/200\n",
      "1500/1500 [==============================] - 2s 1ms/step - loss: 0.2250 - accuracy: 0.9669 - val_loss: 0.2386 - val_accuracy: 0.9645\n",
      "Epoch 135/200\n",
      "1500/1500 [==============================] - 2s 1ms/step - loss: 0.2260 - accuracy: 0.9658 - val_loss: 0.2445 - val_accuracy: 0.9628\n",
      "Epoch 136/200\n",
      "1500/1500 [==============================] - 2s 1ms/step - loss: 0.2276 - accuracy: 0.9659 - val_loss: 0.2311 - val_accuracy: 0.9664\n",
      "Epoch 137/200\n",
      "1500/1500 [==============================] - 2s 1ms/step - loss: 0.2259 - accuracy: 0.9657 - val_loss: 0.2451 - val_accuracy: 0.9616\n",
      "Epoch 138/200\n",
      "1500/1500 [==============================] - 2s 1ms/step - loss: 0.2256 - accuracy: 0.9659 - val_loss: 0.2385 - val_accuracy: 0.9620\n",
      "Epoch 139/200\n",
      "1500/1500 [==============================] - 2s 1ms/step - loss: 0.2267 - accuracy: 0.9649 - val_loss: 0.2402 - val_accuracy: 0.9632\n",
      "Epoch 140/200\n",
      "1500/1500 [==============================] - 2s 1ms/step - loss: 0.2243 - accuracy: 0.9669 - val_loss: 0.2473 - val_accuracy: 0.9613\n",
      "Epoch 141/200\n",
      "1500/1500 [==============================] - 2s 1ms/step - loss: 0.2251 - accuracy: 0.9662 - val_loss: 0.2415 - val_accuracy: 0.9647\n",
      "Epoch 142/200\n",
      "1500/1500 [==============================] - 2s 1ms/step - loss: 0.2253 - accuracy: 0.9657 - val_loss: 0.2377 - val_accuracy: 0.9619\n",
      "Epoch 143/200\n",
      "1500/1500 [==============================] - 2s 1ms/step - loss: 0.2264 - accuracy: 0.9653 - val_loss: 0.2312 - val_accuracy: 0.9666\n",
      "Epoch 144/200\n",
      "1500/1500 [==============================] - 2s 1ms/step - loss: 0.2243 - accuracy: 0.9656 - val_loss: 0.2262 - val_accuracy: 0.9682\n",
      "Epoch 145/200\n",
      "1500/1500 [==============================] - 2s 1ms/step - loss: 0.2257 - accuracy: 0.9650 - val_loss: 0.2401 - val_accuracy: 0.9620\n",
      "Epoch 146/200\n",
      "1500/1500 [==============================] - 2s 1ms/step - loss: 0.2224 - accuracy: 0.9664 - val_loss: 0.2488 - val_accuracy: 0.9567\n",
      "Epoch 147/200\n",
      "1500/1500 [==============================] - 2s 1ms/step - loss: 0.2222 - accuracy: 0.9670 - val_loss: 0.2409 - val_accuracy: 0.9628\n",
      "Epoch 148/200\n",
      "1500/1500 [==============================] - 2s 1ms/step - loss: 0.2268 - accuracy: 0.9644 - val_loss: 0.2295 - val_accuracy: 0.9669\n",
      "Epoch 149/200\n",
      "1500/1500 [==============================] - 2s 1ms/step - loss: 0.2223 - accuracy: 0.9666 - val_loss: 0.2434 - val_accuracy: 0.9628\n",
      "Epoch 150/200\n",
      "1500/1500 [==============================] - 2s 1ms/step - loss: 0.2223 - accuracy: 0.9666 - val_loss: 0.2276 - val_accuracy: 0.9654\n",
      "Epoch 151/200\n",
      "1500/1500 [==============================] - 2s 1ms/step - loss: 0.2249 - accuracy: 0.9646 - val_loss: 0.2469 - val_accuracy: 0.9607\n",
      "Epoch 152/200\n",
      "1500/1500 [==============================] - 2s 1ms/step - loss: 0.2227 - accuracy: 0.9654 - val_loss: 0.2555 - val_accuracy: 0.9572\n",
      "Epoch 153/200\n",
      "1500/1500 [==============================] - 2s 1ms/step - loss: 0.2241 - accuracy: 0.9657 - val_loss: 0.2562 - val_accuracy: 0.9573\n",
      "Epoch 154/200\n",
      "1500/1500 [==============================] - 2s 1ms/step - loss: 0.2228 - accuracy: 0.9656 - val_loss: 0.2352 - val_accuracy: 0.9617\n",
      "Epoch 155/200\n",
      "1500/1500 [==============================] - 2s 1ms/step - loss: 0.2233 - accuracy: 0.9651 - val_loss: 0.2629 - val_accuracy: 0.9538\n",
      "Epoch 156/200\n",
      "1500/1500 [==============================] - 2s 1ms/step - loss: 0.2233 - accuracy: 0.9662 - val_loss: 0.2348 - val_accuracy: 0.9638\n",
      "Epoch 157/200\n",
      "1500/1500 [==============================] - 2s 1ms/step - loss: 0.2208 - accuracy: 0.9666 - val_loss: 0.2567 - val_accuracy: 0.9568\n",
      "Epoch 158/200\n",
      "1500/1500 [==============================] - 2s 1ms/step - loss: 0.2215 - accuracy: 0.9661 - val_loss: 0.2339 - val_accuracy: 0.9638\n",
      "Epoch 159/200\n",
      "1500/1500 [==============================] - 2s 1ms/step - loss: 0.2228 - accuracy: 0.9657 - val_loss: 0.2404 - val_accuracy: 0.9623\n",
      "Epoch 160/200\n",
      "1500/1500 [==============================] - 2s 1ms/step - loss: 0.2215 - accuracy: 0.9663 - val_loss: 0.2206 - val_accuracy: 0.9685\n",
      "Epoch 161/200\n",
      "1500/1500 [==============================] - 2s 1ms/step - loss: 0.2240 - accuracy: 0.9655 - val_loss: 0.2277 - val_accuracy: 0.9646\n",
      "Epoch 162/200\n",
      "1500/1500 [==============================] - 2s 1ms/step - loss: 0.2211 - accuracy: 0.9668 - val_loss: 0.2340 - val_accuracy: 0.9633\n",
      "Epoch 163/200\n",
      "1500/1500 [==============================] - 2s 1ms/step - loss: 0.2213 - accuracy: 0.9655 - val_loss: 0.2328 - val_accuracy: 0.9649\n",
      "Epoch 164/200\n",
      "1500/1500 [==============================] - 2s 1ms/step - loss: 0.2204 - accuracy: 0.9673 - val_loss: 0.2241 - val_accuracy: 0.9655\n",
      "Epoch 165/200\n",
      "1500/1500 [==============================] - 2s 1ms/step - loss: 0.2228 - accuracy: 0.9654 - val_loss: 0.2390 - val_accuracy: 0.9636\n",
      "Epoch 166/200\n",
      "1500/1500 [==============================] - 2s 1ms/step - loss: 0.2201 - accuracy: 0.9664 - val_loss: 0.2332 - val_accuracy: 0.9654\n",
      "Epoch 167/200\n",
      "1500/1500 [==============================] - 2s 1ms/step - loss: 0.2221 - accuracy: 0.9662 - val_loss: 0.2351 - val_accuracy: 0.9636\n",
      "Epoch 168/200\n",
      "1500/1500 [==============================] - 2s 1ms/step - loss: 0.2209 - accuracy: 0.9664 - val_loss: 0.2343 - val_accuracy: 0.9629\n"
     ]
    },
    {
     "name": "stdout",
     "output_type": "stream",
     "text": [
      "Epoch 169/200\n",
      "1500/1500 [==============================] - 2s 1ms/step - loss: 0.2187 - accuracy: 0.9668 - val_loss: 0.2254 - val_accuracy: 0.9664\n",
      "Epoch 170/200\n",
      "1500/1500 [==============================] - 2s 1ms/step - loss: 0.2210 - accuracy: 0.9670 - val_loss: 0.2462 - val_accuracy: 0.9587\n",
      "Epoch 171/200\n",
      "1500/1500 [==============================] - 2s 1ms/step - loss: 0.2213 - accuracy: 0.9662 - val_loss: 0.2329 - val_accuracy: 0.9649\n",
      "Epoch 172/200\n",
      "1500/1500 [==============================] - 2s 1ms/step - loss: 0.2211 - accuracy: 0.9672 - val_loss: 0.2409 - val_accuracy: 0.9597\n",
      "Epoch 173/200\n",
      "1500/1500 [==============================] - 2s 1ms/step - loss: 0.2206 - accuracy: 0.9662 - val_loss: 0.2398 - val_accuracy: 0.9599\n",
      "Epoch 174/200\n",
      "1500/1500 [==============================] - 2s 1ms/step - loss: 0.2209 - accuracy: 0.9663 - val_loss: 0.2269 - val_accuracy: 0.9663\n",
      "Epoch 175/200\n",
      "1500/1500 [==============================] - 2s 1ms/step - loss: 0.2188 - accuracy: 0.9673 - val_loss: 0.2378 - val_accuracy: 0.9629\n",
      "Epoch 176/200\n",
      "1500/1500 [==============================] - 2s 1ms/step - loss: 0.2247 - accuracy: 0.9650 - val_loss: 0.2350 - val_accuracy: 0.9646\n",
      "Epoch 177/200\n",
      "1500/1500 [==============================] - 2s 1ms/step - loss: 0.2201 - accuracy: 0.9663 - val_loss: 0.2418 - val_accuracy: 0.9607\n",
      "Epoch 178/200\n",
      "1500/1500 [==============================] - 2s 1ms/step - loss: 0.2200 - accuracy: 0.9664 - val_loss: 0.2587 - val_accuracy: 0.9579\n",
      "Epoch 179/200\n",
      "1500/1500 [==============================] - 2s 1ms/step - loss: 0.2194 - accuracy: 0.9669 - val_loss: 0.2558 - val_accuracy: 0.9547\n",
      "Epoch 180/200\n",
      "1500/1500 [==============================] - 2s 1ms/step - loss: 0.2192 - accuracy: 0.9669 - val_loss: 0.2509 - val_accuracy: 0.9589\n",
      "Epoch 181/200\n",
      "1500/1500 [==============================] - 2s 1ms/step - loss: 0.2217 - accuracy: 0.9660 - val_loss: 0.2308 - val_accuracy: 0.9654\n",
      "Epoch 182/200\n",
      "1500/1500 [==============================] - 2s 1ms/step - loss: 0.2202 - accuracy: 0.9659 - val_loss: 0.2355 - val_accuracy: 0.9640\n",
      "Epoch 183/200\n",
      "1500/1500 [==============================] - 2s 1ms/step - loss: 0.2199 - accuracy: 0.9662 - val_loss: 0.2405 - val_accuracy: 0.9648\n",
      "Epoch 184/200\n",
      "1500/1500 [==============================] - 2s 1ms/step - loss: 0.2201 - accuracy: 0.9668 - val_loss: 0.2384 - val_accuracy: 0.9624\n",
      "Epoch 185/200\n",
      "1500/1500 [==============================] - 2s 1ms/step - loss: 0.2213 - accuracy: 0.9659 - val_loss: 0.2331 - val_accuracy: 0.9656\n",
      "Epoch 186/200\n",
      "1500/1500 [==============================] - 2s 1ms/step - loss: 0.2207 - accuracy: 0.9658 - val_loss: 0.2514 - val_accuracy: 0.9563\n",
      "Epoch 187/200\n",
      "1500/1500 [==============================] - 2s 1ms/step - loss: 0.2158 - accuracy: 0.9671 - val_loss: 0.2458 - val_accuracy: 0.9587\n",
      "Epoch 188/200\n",
      "1500/1500 [==============================] - 2s 1ms/step - loss: 0.2203 - accuracy: 0.9661 - val_loss: 0.2390 - val_accuracy: 0.9615\n",
      "Epoch 189/200\n",
      "1500/1500 [==============================] - 2s 1ms/step - loss: 0.2177 - accuracy: 0.9669 - val_loss: 0.2605 - val_accuracy: 0.9505\n",
      "Epoch 190/200\n",
      "1500/1500 [==============================] - 2s 1ms/step - loss: 0.2203 - accuracy: 0.9660 - val_loss: 0.2546 - val_accuracy: 0.9581\n",
      "Epoch 191/200\n",
      "1500/1500 [==============================] - 2s 1ms/step - loss: 0.2219 - accuracy: 0.9661 - val_loss: 0.2335 - val_accuracy: 0.9608\n",
      "Epoch 192/200\n",
      "1500/1500 [==============================] - 2s 1ms/step - loss: 0.2183 - accuracy: 0.9658 - val_loss: 0.2380 - val_accuracy: 0.9619\n",
      "Epoch 193/200\n",
      "1500/1500 [==============================] - 2s 1ms/step - loss: 0.2207 - accuracy: 0.9655 - val_loss: 0.2278 - val_accuracy: 0.9643\n",
      "Epoch 194/200\n",
      "1500/1500 [==============================] - 2s 1ms/step - loss: 0.2170 - accuracy: 0.9660 - val_loss: 0.2344 - val_accuracy: 0.9635\n",
      "Epoch 195/200\n",
      "1500/1500 [==============================] - 2s 1ms/step - loss: 0.2196 - accuracy: 0.9663 - val_loss: 0.2297 - val_accuracy: 0.9646\n",
      "Epoch 196/200\n",
      "1500/1500 [==============================] - 2s 1ms/step - loss: 0.2219 - accuracy: 0.9650 - val_loss: 0.2304 - val_accuracy: 0.9646\n",
      "Epoch 197/200\n",
      "1500/1500 [==============================] - 2s 1ms/step - loss: 0.2205 - accuracy: 0.9657 - val_loss: 0.2266 - val_accuracy: 0.9671\n",
      "Epoch 198/200\n",
      "1500/1500 [==============================] - 2s 1ms/step - loss: 0.2208 - accuracy: 0.9665 - val_loss: 0.2473 - val_accuracy: 0.9600\n",
      "Epoch 199/200\n",
      "1500/1500 [==============================] - 2s 1ms/step - loss: 0.2171 - accuracy: 0.9665 - val_loss: 0.2336 - val_accuracy: 0.9640\n",
      "Epoch 200/200\n",
      "1500/1500 [==============================] - 2s 1ms/step - loss: 0.2198 - accuracy: 0.9661 - val_loss: 0.2328 - val_accuracy: 0.9623\n"
     ]
    }
   ],
   "source": [
    "# will take a while... saving training history\n",
    "history_deepermnist = deepermodel_images.fit(x_train, y_tr_one_hot, epochs=200, batch_size= 32, validation_split = 0.2)"
   ]
  },
  {
   "cell_type": "code",
   "execution_count": 50,
   "metadata": {
    "cell_style": "split",
    "slideshow": {
     "slide_type": "slide"
    }
   },
   "outputs": [
    {
     "name": "stdout",
     "output_type": "stream",
     "text": [
      "313/313 - 0s - loss: 0.2273 - accuracy: 0.9644 - 264ms/epoch - 844us/step\n"
     ]
    },
    {
     "data": {
      "text/plain": [
       "[0.22727477550506592, 0.9643999934196472]"
      ]
     },
     "execution_count": 50,
     "metadata": {},
     "output_type": "execute_result"
    }
   ],
   "source": [
    "#evaluate test accuracy\n",
    "deepermodel_images.evaluate(x_test, y_tt_one_hot, verbose = 2)"
   ]
  },
  {
   "cell_type": "code",
   "execution_count": 51,
   "metadata": {
    "cell_style": "split",
    "slideshow": {
     "slide_type": "fragment"
    }
   },
   "outputs": [
    {
     "data": {
      "image/png": "[encoded data removed]",
      "text/plain": [
       "<Figure size 640x480 with 1 Axes>"
      ]
     },
     "metadata": {},
     "output_type": "display_data"
    }
   ],
   "source": [
    "train_deepmnist_history = pd.DataFrame(history_deepermnist.history)\n",
    "train_deepmnist_history.index.name = 'epochs'\n",
    "\n",
    "col_list = ['loss', 'val_loss']\n",
    "train_deepmnist_history[col_list].plot()\n",
    "plt.ylabel('Categorical cross entropy')\n",
    "plt.title('Training loss history')\n",
    "plt.show()"
   ]
  },
  {
   "cell_type": "code",
   "execution_count": 52,
   "metadata": {
    "cell_style": "split",
    "slideshow": {
     "slide_type": "slide"
    }
   },
   "outputs": [
    {
     "data": {
      "image/png": "[encoded data removed]",
      "text/plain": [
       "<Figure size 640x480 with 1 Axes>"
      ]
     },
     "metadata": {},
     "output_type": "display_data"
    }
   ],
   "source": [
    "col_list = ['accuracy', 'val_accuracy']\n",
    "train_deepmnist_history[col_list].plot()\n",
    "plt.ylabel('Accuracy')\n",
    "plt.title('Training loss history')\n",
    "plt.show()"
   ]
  },
  {
   "cell_type": "markdown",
   "metadata": {
    "cell_style": "split",
    "slideshow": {
     "slide_type": "fragment"
    }
   },
   "source": [
    "Not overfitting even while adding much more complexity:\n",
    "- in this case, not gaining much either"
   ]
  },
  {
   "cell_type": "markdown",
   "metadata": {
    "cell_style": "split",
    "slideshow": {
     "slide_type": "fragment"
    }
   },
   "source": [
    "To do better:\n",
    "- try a different regularization technique\n",
    "- may need to think harder about network architecture"
   ]
  },
  {
   "cell_type": "markdown",
   "metadata": {
    "cell_style": "center",
    "slideshow": {
     "slide_type": "slide"
    }
   },
   "source": [
    "#### Dropout Regularization\n",
    "- Architecture based strategy.\n",
    "\n",
    "On each forward/backprop iteration:\n",
    "- given layer with dropout\n",
    "- shut off activations to randomly selected nodes in layer"
   ]
  },
  {
   "cell_type": "markdown",
   "metadata": {
    "cell_style": "split",
    "slideshow": {
     "slide_type": "slide"
    }
   },
   "source": [
    "![drop_out](images/drop_out.png)"
   ]
  },
  {
   "cell_type": "markdown",
   "metadata": {
    "cell_style": "split",
    "slideshow": {
     "slide_type": "fragment"
    }
   },
   "source": [
    "<img src = \"Images/dropout_network.gif\" >"
   ]
  },
  {
   "cell_type": "markdown",
   "metadata": {
    "cell_style": "center",
    "slideshow": {
     "slide_type": "fragment"
    }
   },
   "source": [
    "- Set $p^{[l]}$  uniform probability of node dropout for given layer\n",
    "- each train cycle: kills different activations"
   ]
  },
  {
   "cell_type": "markdown",
   "metadata": {
    "cell_style": "center",
    "slideshow": {
     "slide_type": "fragment"
    }
   },
   "source": [
    "Dead nodes dont contribute to weight updates in backprop."
   ]
  },
  {
   "cell_type": "markdown",
   "metadata": {
    "cell_style": "center",
    "slideshow": {
     "slide_type": "fragment"
    }
   },
   "source": [
    "after many train cycles: have learned weights:\n",
    "- contributions from many different networks learning different things"
   ]
  },
  {
   "cell_type": "markdown",
   "metadata": {
    "cell_style": "split",
    "slideshow": {
     "slide_type": "slide"
    }
   },
   "source": [
    "<img src = \"Images/Deeper_network.jpg\">"
   ]
  },
  {
   "cell_type": "markdown",
   "metadata": {
    "cell_style": "split",
    "slideshow": {
     "slide_type": "fragment"
    }
   },
   "source": [
    "Validation/test phase:\n",
    "- use all nodes and learned weights.\n",
    "- make prediction."
   ]
  },
  {
   "cell_type": "markdown",
   "metadata": {
    "cell_style": "center",
    "slideshow": {
     "slide_type": "slide"
    }
   },
   "source": [
    "**Why it works as regularization**\n",
    "- network learns not to trust in any one subset of weights: unlikely any particular weight subset gets too big.\n",
    "- distributes weights in way that is robust to network noise (random dropout): generalizes well. "
   ]
  },
  {
   "cell_type": "markdown",
   "metadata": {
    "slideshow": {
     "slide_type": "slide"
    }
   },
   "source": [
    "#### Dropout in Keras\n",
    "\n",
    "- Simply add it as though it were a layer. It will apply to the immediately preceding layer."
   ]
  },
  {
   "cell_type": "code",
   "execution_count": 53,
   "metadata": {
    "slideshow": {
     "slide_type": "fragment"
    }
   },
   "outputs": [],
   "source": [
    "from tensorflow.keras.layers import Dropout"
   ]
  },
  {
   "cell_type": "markdown",
   "metadata": {
    "cell_style": "center",
    "slideshow": {
     "slide_type": "slide"
    }
   },
   "source": [
    "Dropout() takes in the dropout probability as a constructor argument:\n",
    "- Dropout($p$) after some of the hidden layers.\n",
    "- $p \\in [0.2, 0.5]$ as good range to try."
   ]
  },
  {
   "cell_type": "code",
   "execution_count": 54,
   "metadata": {
    "slideshow": {
     "slide_type": "subslide"
    }
   },
   "outputs": [],
   "source": [
    "from tensorflow.keras.optimizers import Adam\n",
    "opt = Adam(learning_rate=0.003, beta_1=0.9, beta_2=0.999, epsilon=1e-07)"
   ]
  },
  {
   "cell_type": "markdown",
   "metadata": {
    "slideshow": {
     "slide_type": "slide"
    }
   },
   "source": [
    "**Define model**"
   ]
  },
  {
   "cell_type": "code",
   "execution_count": 55,
   "metadata": {
    "cell_style": "split",
    "slideshow": {
     "slide_type": "fragment"
    }
   },
   "outputs": [],
   "source": [
    "model = Sequential()\n",
    "model.add(Flatten(input_shape=(28, 28)))\n",
    "model.add(Dense(20, activation='relu'))\n",
    "model.add(Dropout(0.2)) # dropout on previous activations\n",
    "model.add(Dense(12, activation='relu'))\n",
    "model.add(Dense(12, activation='relu'))\n",
    "model.add(Dropout(0.1)) # dropout\n",
    "model.add(Dense(12, activation='relu'))\n",
    "model.add(Dense(8, activation='relu'))\n",
    "model.add(Dense(10, activation ='softmax'))\n",
    "\n",
    "# compile model\n",
    "model.compile(optimizer=opt, \n",
    "              loss='categorical_crossentropy',\n",
    "              metrics=['accuracy'])"
   ]
  },
  {
   "cell_type": "markdown",
   "metadata": {
    "cell_style": "split",
    "slideshow": {
     "slide_type": "fragment"
    }
   },
   "source": [
    "Some tips:\n",
    "- Dropout earlier in network or inputs. Don't put on final layers.\n",
    "- Try faster learning rates in optimizer"
   ]
  },
  {
   "cell_type": "code",
   "execution_count": 56,
   "metadata": {
    "scrolled": true,
    "slideshow": {
     "slide_type": "slide"
    }
   },
   "outputs": [
    {
     "name": "stdout",
     "output_type": "stream",
     "text": [
      "Epoch 1/200\n",
      "1500/1500 - 2s - loss: 0.8808 - accuracy: 0.7115 - val_loss: 0.4092 - val_accuracy: 0.8942 - 2s/epoch - 1ms/step\n",
      "Epoch 2/200\n",
      "1500/1500 - 1s - loss: 0.5753 - accuracy: 0.8332 - val_loss: 0.3407 - val_accuracy: 0.9124 - 1s/epoch - 864us/step\n",
      "Epoch 3/200\n",
      "1500/1500 - 1s - loss: 0.5255 - accuracy: 0.8471 - val_loss: 0.3058 - val_accuracy: 0.9197 - 1s/epoch - 864us/step\n",
      "Epoch 4/200\n",
      "1500/1500 - 1s - loss: 0.4771 - accuracy: 0.8613 - val_loss: 0.3004 - val_accuracy: 0.9189 - 1s/epoch - 935us/step\n",
      "Epoch 5/200\n",
      "1500/1500 - 1s - loss: 0.4571 - accuracy: 0.8680 - val_loss: 0.3008 - val_accuracy: 0.9212 - 1s/epoch - 880us/step\n",
      "Epoch 6/200\n",
      "1500/1500 - 1s - loss: 0.4457 - accuracy: 0.8707 - val_loss: 0.2663 - val_accuracy: 0.9293 - 1s/epoch - 887us/step\n",
      "Epoch 7/200\n",
      "1500/1500 - 1s - loss: 0.4277 - accuracy: 0.8780 - val_loss: 0.2743 - val_accuracy: 0.9296 - 1s/epoch - 869us/step\n",
      "Epoch 8/200\n",
      "1500/1500 - 1s - loss: 0.4183 - accuracy: 0.8779 - val_loss: 0.2682 - val_accuracy: 0.9302 - 1s/epoch - 891us/step\n",
      "Epoch 9/200\n",
      "1500/1500 - 1s - loss: 0.4118 - accuracy: 0.8810 - val_loss: 0.2621 - val_accuracy: 0.9287 - 1s/epoch - 862us/step\n",
      "Epoch 10/200\n",
      "1500/1500 - 1s - loss: 0.4080 - accuracy: 0.8828 - val_loss: 0.2626 - val_accuracy: 0.9291 - 1s/epoch - 863us/step\n",
      "Epoch 11/200\n",
      "1500/1500 - 1s - loss: 0.4006 - accuracy: 0.8842 - val_loss: 0.2563 - val_accuracy: 0.9326 - 1s/epoch - 865us/step\n",
      "Epoch 12/200\n",
      "1500/1500 - 1s - loss: 0.3927 - accuracy: 0.8855 - val_loss: 0.2675 - val_accuracy: 0.9257 - 1s/epoch - 864us/step\n",
      "Epoch 13/200\n",
      "1500/1500 - 1s - loss: 0.3894 - accuracy: 0.8889 - val_loss: 0.2707 - val_accuracy: 0.9274 - 1s/epoch - 854us/step\n",
      "Epoch 14/200\n",
      "1500/1500 - 1s - loss: 0.3841 - accuracy: 0.8916 - val_loss: 0.2685 - val_accuracy: 0.9267 - 1s/epoch - 887us/step\n",
      "Epoch 15/200\n",
      "1500/1500 - 1s - loss: 0.3808 - accuracy: 0.8906 - val_loss: 0.2438 - val_accuracy: 0.9338 - 1s/epoch - 900us/step\n",
      "Epoch 16/200\n",
      "1500/1500 - 1s - loss: 0.3811 - accuracy: 0.8906 - val_loss: 0.2622 - val_accuracy: 0.9293 - 1s/epoch - 864us/step\n",
      "Epoch 17/200\n",
      "1500/1500 - 1s - loss: 0.3773 - accuracy: 0.8916 - val_loss: 0.2462 - val_accuracy: 0.9346 - 1s/epoch - 859us/step\n",
      "Epoch 18/200\n",
      "1500/1500 - 1s - loss: 0.3730 - accuracy: 0.8932 - val_loss: 0.2453 - val_accuracy: 0.9337 - 1s/epoch - 863us/step\n",
      "Epoch 19/200\n",
      "1500/1500 - 1s - loss: 0.3729 - accuracy: 0.8928 - val_loss: 0.2571 - val_accuracy: 0.9309 - 1s/epoch - 860us/step\n",
      "Epoch 20/200\n",
      "1500/1500 - 1s - loss: 0.3726 - accuracy: 0.8939 - val_loss: 0.2544 - val_accuracy: 0.9318 - 1s/epoch - 865us/step\n",
      "Epoch 21/200\n",
      "1500/1500 - 1s - loss: 0.3623 - accuracy: 0.8948 - val_loss: 0.2491 - val_accuracy: 0.9318 - 1s/epoch - 858us/step\n",
      "Epoch 22/200\n",
      "1500/1500 - 1s - loss: 0.3714 - accuracy: 0.8931 - val_loss: 0.2553 - val_accuracy: 0.9307 - 1s/epoch - 858us/step\n",
      "Epoch 23/200\n",
      "1500/1500 - 1s - loss: 0.3610 - accuracy: 0.8969 - val_loss: 0.2498 - val_accuracy: 0.9334 - 1s/epoch - 859us/step\n",
      "Epoch 24/200\n",
      "1500/1500 - 1s - loss: 0.3637 - accuracy: 0.8942 - val_loss: 0.2475 - val_accuracy: 0.9322 - 1s/epoch - 860us/step\n",
      "Epoch 25/200\n",
      "1500/1500 - 1s - loss: 0.3524 - accuracy: 0.9000 - val_loss: 0.2393 - val_accuracy: 0.9356 - 1s/epoch - 859us/step\n",
      "Epoch 26/200\n",
      "1500/1500 - 1s - loss: 0.3568 - accuracy: 0.8979 - val_loss: 0.2320 - val_accuracy: 0.9402 - 1s/epoch - 861us/step\n",
      "Epoch 27/200\n",
      "1500/1500 - 1s - loss: 0.3556 - accuracy: 0.8974 - val_loss: 0.2504 - val_accuracy: 0.9303 - 1s/epoch - 861us/step\n",
      "Epoch 28/200\n",
      "1500/1500 - 1s - loss: 0.3549 - accuracy: 0.8991 - val_loss: 0.2476 - val_accuracy: 0.9337 - 1s/epoch - 860us/step\n",
      "Epoch 29/200\n",
      "1500/1500 - 1s - loss: 0.3476 - accuracy: 0.8996 - val_loss: 0.2439 - val_accuracy: 0.9341 - 1s/epoch - 859us/step\n",
      "Epoch 30/200\n",
      "1500/1500 - 1s - loss: 0.3509 - accuracy: 0.9009 - val_loss: 0.2481 - val_accuracy: 0.9377 - 1s/epoch - 882us/step\n",
      "Epoch 31/200\n",
      "1500/1500 - 1s - loss: 0.3480 - accuracy: 0.9008 - val_loss: 0.2322 - val_accuracy: 0.9363 - 1s/epoch - 857us/step\n",
      "Epoch 32/200\n",
      "1500/1500 - 1s - loss: 0.3380 - accuracy: 0.9040 - val_loss: 0.2494 - val_accuracy: 0.9355 - 1s/epoch - 859us/step\n",
      "Epoch 33/200\n",
      "1500/1500 - 1s - loss: 0.3457 - accuracy: 0.9011 - val_loss: 0.2398 - val_accuracy: 0.9373 - 1s/epoch - 862us/step\n",
      "Epoch 34/200\n",
      "1500/1500 - 1s - loss: 0.3422 - accuracy: 0.9028 - val_loss: 0.2290 - val_accuracy: 0.9405 - 1s/epoch - 867us/step\n",
      "Epoch 35/200\n",
      "1500/1500 - 1s - loss: 0.3398 - accuracy: 0.9046 - val_loss: 0.2400 - val_accuracy: 0.9348 - 1s/epoch - 860us/step\n",
      "Epoch 36/200\n",
      "1500/1500 - 1s - loss: 0.3383 - accuracy: 0.9056 - val_loss: 0.2349 - val_accuracy: 0.9364 - 1s/epoch - 859us/step\n",
      "Epoch 37/200\n",
      "1500/1500 - 1s - loss: 0.3406 - accuracy: 0.9040 - val_loss: 0.2377 - val_accuracy: 0.9352 - 1s/epoch - 859us/step\n",
      "Epoch 38/200\n",
      "1500/1500 - 1s - loss: 0.3369 - accuracy: 0.9035 - val_loss: 0.2537 - val_accuracy: 0.9312 - 1s/epoch - 863us/step\n",
      "Epoch 39/200\n",
      "1500/1500 - 1s - loss: 0.3369 - accuracy: 0.9034 - val_loss: 0.2401 - val_accuracy: 0.9358 - 1s/epoch - 866us/step\n",
      "Epoch 40/200\n",
      "1500/1500 - 1s - loss: 0.3353 - accuracy: 0.9047 - val_loss: 0.2293 - val_accuracy: 0.9386 - 1s/epoch - 858us/step\n",
      "Epoch 41/200\n",
      "1500/1500 - 1s - loss: 0.3316 - accuracy: 0.9082 - val_loss: 0.2387 - val_accuracy: 0.9376 - 1s/epoch - 861us/step\n",
      "Epoch 42/200\n",
      "1500/1500 - 1s - loss: 0.3312 - accuracy: 0.9060 - val_loss: 0.2342 - val_accuracy: 0.9388 - 1s/epoch - 882us/step\n",
      "Epoch 43/200\n",
      "1500/1500 - 1s - loss: 0.3287 - accuracy: 0.9074 - val_loss: 0.2387 - val_accuracy: 0.9391 - 1s/epoch - 857us/step\n",
      "Epoch 44/200\n",
      "1500/1500 - 1s - loss: 0.3353 - accuracy: 0.9065 - val_loss: 0.2286 - val_accuracy: 0.9405 - 1s/epoch - 865us/step\n",
      "Epoch 45/200\n",
      "1500/1500 - 1s - loss: 0.3283 - accuracy: 0.9069 - val_loss: 0.2238 - val_accuracy: 0.9410 - 1s/epoch - 860us/step\n",
      "Epoch 46/200\n",
      "1500/1500 - 1s - loss: 0.3272 - accuracy: 0.9059 - val_loss: 0.2415 - val_accuracy: 0.9364 - 1s/epoch - 862us/step\n",
      "Epoch 47/200\n",
      "1500/1500 - 1s - loss: 0.3287 - accuracy: 0.9063 - val_loss: 0.2272 - val_accuracy: 0.9386 - 1s/epoch - 868us/step\n",
      "Epoch 48/200\n",
      "1500/1500 - 1s - loss: 0.3252 - accuracy: 0.9082 - val_loss: 0.2449 - val_accuracy: 0.9320 - 1s/epoch - 861us/step\n",
      "Epoch 49/200\n",
      "1500/1500 - 1s - loss: 0.3226 - accuracy: 0.9076 - val_loss: 0.2255 - val_accuracy: 0.9406 - 1s/epoch - 857us/step\n",
      "Epoch 50/200\n",
      "1500/1500 - 1s - loss: 0.3192 - accuracy: 0.9097 - val_loss: 0.2271 - val_accuracy: 0.9416 - 1s/epoch - 864us/step\n",
      "Epoch 51/200\n",
      "1500/1500 - 1s - loss: 0.3262 - accuracy: 0.9080 - val_loss: 0.2305 - val_accuracy: 0.9419 - 1s/epoch - 861us/step\n",
      "Epoch 52/200\n",
      "1500/1500 - 1s - loss: 0.3231 - accuracy: 0.9086 - val_loss: 0.2231 - val_accuracy: 0.9438 - 1s/epoch - 861us/step\n",
      "Epoch 53/200\n",
      "1500/1500 - 1s - loss: 0.3227 - accuracy: 0.9095 - val_loss: 0.2418 - val_accuracy: 0.9341 - 1s/epoch - 861us/step\n",
      "Epoch 54/200\n",
      "1500/1500 - 1s - loss: 0.3225 - accuracy: 0.9089 - val_loss: 0.2305 - val_accuracy: 0.9387 - 1s/epoch - 859us/step\n",
      "Epoch 55/200\n",
      "1500/1500 - 1s - loss: 0.3217 - accuracy: 0.9089 - val_loss: 0.2287 - val_accuracy: 0.9385 - 1s/epoch - 859us/step\n",
      "Epoch 56/200\n",
      "1500/1500 - 1s - loss: 0.3218 - accuracy: 0.9099 - val_loss: 0.2282 - val_accuracy: 0.9383 - 1s/epoch - 861us/step\n",
      "Epoch 57/200\n",
      "1500/1500 - 1s - loss: 0.3231 - accuracy: 0.9089 - val_loss: 0.2393 - val_accuracy: 0.9365 - 1s/epoch - 861us/step\n",
      "Epoch 58/200\n",
      "1500/1500 - 1s - loss: 0.3171 - accuracy: 0.9105 - val_loss: 0.2467 - val_accuracy: 0.9361 - 1s/epoch - 859us/step\n",
      "Epoch 59/200\n",
      "1500/1500 - 1s - loss: 0.3160 - accuracy: 0.9111 - val_loss: 0.2350 - val_accuracy: 0.9367 - 1s/epoch - 875us/step\n",
      "Epoch 60/200\n",
      "1500/1500 - 1s - loss: 0.3186 - accuracy: 0.9104 - val_loss: 0.2283 - val_accuracy: 0.9395 - 1s/epoch - 860us/step\n",
      "Epoch 61/200\n",
      "1500/1500 - 1s - loss: 0.3122 - accuracy: 0.9124 - val_loss: 0.2302 - val_accuracy: 0.9419 - 1s/epoch - 856us/step\n",
      "Epoch 62/200\n",
      "1500/1500 - 1s - loss: 0.3215 - accuracy: 0.9095 - val_loss: 0.2294 - val_accuracy: 0.9392 - 1s/epoch - 859us/step\n",
      "Epoch 63/200\n",
      "1500/1500 - 1s - loss: 0.3142 - accuracy: 0.9125 - val_loss: 0.2241 - val_accuracy: 0.9394 - 1s/epoch - 859us/step\n",
      "Epoch 64/200\n",
      "1500/1500 - 1s - loss: 0.3177 - accuracy: 0.9106 - val_loss: 0.2228 - val_accuracy: 0.9435 - 1s/epoch - 857us/step\n",
      "Epoch 65/200\n"
     ]
    },
    {
     "name": "stdout",
     "output_type": "stream",
     "text": [
      "1500/1500 - 1s - loss: 0.3104 - accuracy: 0.9122 - val_loss: 0.2376 - val_accuracy: 0.9372 - 1s/epoch - 859us/step\n",
      "Epoch 66/200\n",
      "1500/1500 - 1s - loss: 0.3123 - accuracy: 0.9125 - val_loss: 0.2235 - val_accuracy: 0.9414 - 1s/epoch - 856us/step\n",
      "Epoch 67/200\n",
      "1500/1500 - 1s - loss: 0.3110 - accuracy: 0.9122 - val_loss: 0.2256 - val_accuracy: 0.9362 - 1s/epoch - 859us/step\n",
      "Epoch 68/200\n",
      "1500/1500 - 1s - loss: 0.3082 - accuracy: 0.9127 - val_loss: 0.2398 - val_accuracy: 0.9367 - 1s/epoch - 866us/step\n",
      "Epoch 69/200\n",
      "1500/1500 - 1s - loss: 0.3056 - accuracy: 0.9133 - val_loss: 0.2391 - val_accuracy: 0.9367 - 1s/epoch - 861us/step\n",
      "Epoch 70/200\n",
      "1500/1500 - 1s - loss: 0.3120 - accuracy: 0.9125 - val_loss: 0.2310 - val_accuracy: 0.9403 - 1s/epoch - 860us/step\n",
      "Epoch 71/200\n",
      "1500/1500 - 1s - loss: 0.3147 - accuracy: 0.9126 - val_loss: 0.2344 - val_accuracy: 0.9384 - 1s/epoch - 860us/step\n",
      "Epoch 72/200\n",
      "1500/1500 - 1s - loss: 0.3062 - accuracy: 0.9134 - val_loss: 0.2197 - val_accuracy: 0.9422 - 1s/epoch - 856us/step\n",
      "Epoch 73/200\n",
      "1500/1500 - 1s - loss: 0.3060 - accuracy: 0.9141 - val_loss: 0.2258 - val_accuracy: 0.9397 - 1s/epoch - 880us/step\n",
      "Epoch 74/200\n",
      "1500/1500 - 1s - loss: 0.3039 - accuracy: 0.9152 - val_loss: 0.2275 - val_accuracy: 0.9407 - 1s/epoch - 860us/step\n",
      "Epoch 75/200\n",
      "1500/1500 - 1s - loss: 0.3087 - accuracy: 0.9136 - val_loss: 0.2340 - val_accuracy: 0.9378 - 1s/epoch - 858us/step\n",
      "Epoch 76/200\n",
      "1500/1500 - 1s - loss: 0.3100 - accuracy: 0.9126 - val_loss: 0.2300 - val_accuracy: 0.9375 - 1s/epoch - 869us/step\n",
      "Epoch 77/200\n",
      "1500/1500 - 1s - loss: 0.3052 - accuracy: 0.9146 - val_loss: 0.2212 - val_accuracy: 0.9429 - 1s/epoch - 864us/step\n",
      "Epoch 78/200\n",
      "1500/1500 - 1s - loss: 0.3085 - accuracy: 0.9119 - val_loss: 0.2225 - val_accuracy: 0.9414 - 1s/epoch - 861us/step\n",
      "Epoch 79/200\n",
      "1500/1500 - 1s - loss: 0.3053 - accuracy: 0.9145 - val_loss: 0.2371 - val_accuracy: 0.9347 - 1s/epoch - 858us/step\n",
      "Epoch 80/200\n",
      "1500/1500 - 1s - loss: 0.3051 - accuracy: 0.9142 - val_loss: 0.2414 - val_accuracy: 0.9377 - 1s/epoch - 857us/step\n",
      "Epoch 81/200\n",
      "1500/1500 - 1s - loss: 0.3034 - accuracy: 0.9161 - val_loss: 0.2316 - val_accuracy: 0.9392 - 1s/epoch - 858us/step\n",
      "Epoch 82/200\n",
      "1500/1500 - 1s - loss: 0.3061 - accuracy: 0.9146 - val_loss: 0.2422 - val_accuracy: 0.9361 - 1s/epoch - 856us/step\n",
      "Epoch 83/200\n",
      "1500/1500 - 1s - loss: 0.3011 - accuracy: 0.9162 - val_loss: 0.2207 - val_accuracy: 0.9428 - 1s/epoch - 860us/step\n",
      "Epoch 84/200\n",
      "1500/1500 - 1s - loss: 0.3047 - accuracy: 0.9138 - val_loss: 0.2348 - val_accuracy: 0.9348 - 1s/epoch - 858us/step\n",
      "Epoch 85/200\n",
      "1500/1500 - 1s - loss: 0.3008 - accuracy: 0.9157 - val_loss: 0.2325 - val_accuracy: 0.9388 - 1s/epoch - 858us/step\n",
      "Epoch 86/200\n",
      "1500/1500 - 1s - loss: 0.3067 - accuracy: 0.9141 - val_loss: 0.2288 - val_accuracy: 0.9362 - 1s/epoch - 858us/step\n",
      "Epoch 87/200\n",
      "1500/1500 - 1s - loss: 0.3055 - accuracy: 0.9136 - val_loss: 0.2190 - val_accuracy: 0.9436 - 1s/epoch - 857us/step\n",
      "Epoch 88/200\n",
      "1500/1500 - 1s - loss: 0.3044 - accuracy: 0.9149 - val_loss: 0.2220 - val_accuracy: 0.9426 - 1s/epoch - 855us/step\n",
      "Epoch 89/200\n",
      "1500/1500 - 1s - loss: 0.3044 - accuracy: 0.9151 - val_loss: 0.2259 - val_accuracy: 0.9394 - 1s/epoch - 859us/step\n",
      "Epoch 90/200\n",
      "1500/1500 - 1s - loss: 0.3051 - accuracy: 0.9156 - val_loss: 0.2252 - val_accuracy: 0.9391 - 1s/epoch - 862us/step\n",
      "Epoch 91/200\n",
      "1500/1500 - 1s - loss: 0.3052 - accuracy: 0.9154 - val_loss: 0.2210 - val_accuracy: 0.9423 - 1s/epoch - 860us/step\n",
      "Epoch 92/200\n",
      "1500/1500 - 1s - loss: 0.2994 - accuracy: 0.9171 - val_loss: 0.2339 - val_accuracy: 0.9391 - 1s/epoch - 860us/step\n",
      "Epoch 93/200\n",
      "1500/1500 - 1s - loss: 0.3035 - accuracy: 0.9144 - val_loss: 0.2322 - val_accuracy: 0.9360 - 1s/epoch - 862us/step\n",
      "Epoch 94/200\n",
      "1500/1500 - 1s - loss: 0.3016 - accuracy: 0.9150 - val_loss: 0.2308 - val_accuracy: 0.9408 - 1s/epoch - 860us/step\n",
      "Epoch 95/200\n",
      "1500/1500 - 1s - loss: 0.2983 - accuracy: 0.9169 - val_loss: 0.2321 - val_accuracy: 0.9392 - 1s/epoch - 857us/step\n",
      "Epoch 96/200\n",
      "1500/1500 - 1s - loss: 0.3053 - accuracy: 0.9155 - val_loss: 0.2444 - val_accuracy: 0.9351 - 1s/epoch - 879us/step\n",
      "Epoch 97/200\n",
      "1500/1500 - 1s - loss: 0.2981 - accuracy: 0.9175 - val_loss: 0.2328 - val_accuracy: 0.9392 - 1s/epoch - 864us/step\n",
      "Epoch 98/200\n",
      "1500/1500 - 1s - loss: 0.3002 - accuracy: 0.9162 - val_loss: 0.2268 - val_accuracy: 0.9413 - 1s/epoch - 860us/step\n",
      "Epoch 99/200\n",
      "1500/1500 - 1s - loss: 0.3021 - accuracy: 0.9161 - val_loss: 0.2283 - val_accuracy: 0.9402 - 1s/epoch - 860us/step\n",
      "Epoch 100/200\n",
      "1500/1500 - 1s - loss: 0.3046 - accuracy: 0.9153 - val_loss: 0.2371 - val_accuracy: 0.9344 - 1s/epoch - 866us/step\n",
      "Epoch 101/200\n",
      "1500/1500 - 1s - loss: 0.3069 - accuracy: 0.9128 - val_loss: 0.2265 - val_accuracy: 0.9411 - 1s/epoch - 860us/step\n",
      "Epoch 102/200\n",
      "1500/1500 - 1s - loss: 0.2961 - accuracy: 0.9163 - val_loss: 0.2338 - val_accuracy: 0.9401 - 1s/epoch - 862us/step\n",
      "Epoch 103/200\n",
      "1500/1500 - 1s - loss: 0.2978 - accuracy: 0.9169 - val_loss: 0.2287 - val_accuracy: 0.9383 - 1s/epoch - 862us/step\n",
      "Epoch 104/200\n",
      "1500/1500 - 1s - loss: 0.2998 - accuracy: 0.9173 - val_loss: 0.2253 - val_accuracy: 0.9417 - 1s/epoch - 860us/step\n",
      "Epoch 105/200\n",
      "1500/1500 - 1s - loss: 0.2978 - accuracy: 0.9174 - val_loss: 0.2269 - val_accuracy: 0.9402 - 1s/epoch - 856us/step\n",
      "Epoch 106/200\n",
      "1500/1500 - 1s - loss: 0.3001 - accuracy: 0.9176 - val_loss: 0.2280 - val_accuracy: 0.9412 - 1s/epoch - 860us/step\n",
      "Epoch 107/200\n",
      "1500/1500 - 1s - loss: 0.2952 - accuracy: 0.9180 - val_loss: 0.2338 - val_accuracy: 0.9423 - 1s/epoch - 860us/step\n",
      "Epoch 108/200\n",
      "1500/1500 - 1s - loss: 0.2948 - accuracy: 0.9179 - val_loss: 0.2339 - val_accuracy: 0.9380 - 1s/epoch - 856us/step\n",
      "Epoch 109/200\n",
      "1500/1500 - 1s - loss: 0.2929 - accuracy: 0.9176 - val_loss: 0.2316 - val_accuracy: 0.9391 - 1s/epoch - 857us/step\n",
      "Epoch 110/200\n",
      "1500/1500 - 1s - loss: 0.3032 - accuracy: 0.9151 - val_loss: 0.2306 - val_accuracy: 0.9382 - 1s/epoch - 860us/step\n",
      "Epoch 111/200\n",
      "1500/1500 - 1s - loss: 0.3011 - accuracy: 0.9165 - val_loss: 0.2341 - val_accuracy: 0.9362 - 1s/epoch - 860us/step\n",
      "Epoch 112/200\n",
      "1500/1500 - 1s - loss: 0.2952 - accuracy: 0.9185 - val_loss: 0.2324 - val_accuracy: 0.9368 - 1s/epoch - 861us/step\n",
      "Epoch 113/200\n",
      "1500/1500 - 1s - loss: 0.2978 - accuracy: 0.9177 - val_loss: 0.2251 - val_accuracy: 0.9392 - 1s/epoch - 857us/step\n",
      "Epoch 114/200\n",
      "1500/1500 - 1s - loss: 0.2942 - accuracy: 0.9186 - val_loss: 0.2385 - val_accuracy: 0.9346 - 1s/epoch - 885us/step\n",
      "Epoch 115/200\n",
      "1500/1500 - 1s - loss: 0.2969 - accuracy: 0.9159 - val_loss: 0.2343 - val_accuracy: 0.9392 - 1s/epoch - 859us/step\n",
      "Epoch 116/200\n",
      "1500/1500 - 1s - loss: 0.2941 - accuracy: 0.9172 - val_loss: 0.2301 - val_accuracy: 0.9398 - 1s/epoch - 860us/step\n",
      "Epoch 117/200\n",
      "1500/1500 - 1s - loss: 0.2914 - accuracy: 0.9176 - val_loss: 0.2218 - val_accuracy: 0.9401 - 1s/epoch - 856us/step\n",
      "Epoch 118/200\n",
      "1500/1500 - 1s - loss: 0.2903 - accuracy: 0.9193 - val_loss: 0.2293 - val_accuracy: 0.9399 - 1s/epoch - 873us/step\n",
      "Epoch 119/200\n",
      "1500/1500 - 1s - loss: 0.2963 - accuracy: 0.9172 - val_loss: 0.2235 - val_accuracy: 0.9413 - 1s/epoch - 858us/step\n",
      "Epoch 120/200\n",
      "1500/1500 - 1s - loss: 0.2975 - accuracy: 0.9167 - val_loss: 0.2231 - val_accuracy: 0.9417 - 1s/epoch - 860us/step\n",
      "Epoch 121/200\n",
      "1500/1500 - 1s - loss: 0.2954 - accuracy: 0.9174 - val_loss: 0.2294 - val_accuracy: 0.9424 - 1s/epoch - 863us/step\n",
      "Epoch 122/200\n",
      "1500/1500 - 1s - loss: 0.3021 - accuracy: 0.9173 - val_loss: 0.2329 - val_accuracy: 0.9413 - 1s/epoch - 858us/step\n",
      "Epoch 123/200\n",
      "1500/1500 - 1s - loss: 0.2990 - accuracy: 0.9178 - val_loss: 0.2341 - val_accuracy: 0.9400 - 1s/epoch - 870us/step\n",
      "Epoch 124/200\n",
      "1500/1500 - 1s - loss: 0.2913 - accuracy: 0.9185 - val_loss: 0.2224 - val_accuracy: 0.9424 - 1s/epoch - 880us/step\n",
      "Epoch 125/200\n",
      "1500/1500 - 1s - loss: 0.2950 - accuracy: 0.9186 - val_loss: 0.2225 - val_accuracy: 0.9408 - 1s/epoch - 859us/step\n",
      "Epoch 126/200\n",
      "1500/1500 - 1s - loss: 0.2944 - accuracy: 0.9183 - val_loss: 0.2270 - val_accuracy: 0.9401 - 1s/epoch - 855us/step\n",
      "Epoch 127/200\n",
      "1500/1500 - 1s - loss: 0.2904 - accuracy: 0.9188 - val_loss: 0.2231 - val_accuracy: 0.9414 - 1s/epoch - 866us/step\n",
      "Epoch 128/200\n",
      "1500/1500 - 1s - loss: 0.2928 - accuracy: 0.9190 - val_loss: 0.2300 - val_accuracy: 0.9392 - 1s/epoch - 864us/step\n"
     ]
    },
    {
     "name": "stdout",
     "output_type": "stream",
     "text": [
      "Epoch 129/200\n",
      "1500/1500 - 1s - loss: 0.2905 - accuracy: 0.9188 - val_loss: 0.2275 - val_accuracy: 0.9384 - 1s/epoch - 860us/step\n",
      "Epoch 130/200\n",
      "1500/1500 - 1s - loss: 0.2903 - accuracy: 0.9195 - val_loss: 0.2355 - val_accuracy: 0.9382 - 1s/epoch - 856us/step\n",
      "Epoch 131/200\n",
      "1500/1500 - 1s - loss: 0.2951 - accuracy: 0.9173 - val_loss: 0.2289 - val_accuracy: 0.9412 - 1s/epoch - 859us/step\n",
      "Epoch 132/200\n",
      "1500/1500 - 1s - loss: 0.2981 - accuracy: 0.9168 - val_loss: 0.2396 - val_accuracy: 0.9379 - 1s/epoch - 862us/step\n",
      "Epoch 133/200\n",
      "1500/1500 - 1s - loss: 0.2884 - accuracy: 0.9199 - val_loss: 0.2221 - val_accuracy: 0.9438 - 1s/epoch - 878us/step\n",
      "Epoch 134/200\n",
      "1500/1500 - 1s - loss: 0.2860 - accuracy: 0.9229 - val_loss: 0.2210 - val_accuracy: 0.9409 - 1s/epoch - 906us/step\n",
      "Epoch 135/200\n",
      "1500/1500 - 1s - loss: 0.2911 - accuracy: 0.9196 - val_loss: 0.2268 - val_accuracy: 0.9405 - 1s/epoch - 873us/step\n",
      "Epoch 136/200\n",
      "1500/1500 - 1s - loss: 0.2900 - accuracy: 0.9211 - val_loss: 0.2276 - val_accuracy: 0.9402 - 1s/epoch - 888us/step\n",
      "Epoch 137/200\n",
      "1500/1500 - 1s - loss: 0.2901 - accuracy: 0.9193 - val_loss: 0.2314 - val_accuracy: 0.9401 - 1s/epoch - 903us/step\n",
      "Epoch 138/200\n",
      "1500/1500 - 1s - loss: 0.2916 - accuracy: 0.9182 - val_loss: 0.2263 - val_accuracy: 0.9405 - 1s/epoch - 927us/step\n",
      "Epoch 139/200\n",
      "1500/1500 - 1s - loss: 0.2890 - accuracy: 0.9193 - val_loss: 0.2333 - val_accuracy: 0.9405 - 1s/epoch - 957us/step\n",
      "Epoch 140/200\n",
      "1500/1500 - 1s - loss: 0.2965 - accuracy: 0.9193 - val_loss: 0.2352 - val_accuracy: 0.9401 - 1s/epoch - 917us/step\n",
      "Epoch 141/200\n",
      "1500/1500 - 1s - loss: 0.2886 - accuracy: 0.9203 - val_loss: 0.2253 - val_accuracy: 0.9402 - 1s/epoch - 868us/step\n",
      "Epoch 142/200\n",
      "1500/1500 - 1s - loss: 0.2888 - accuracy: 0.9196 - val_loss: 0.2290 - val_accuracy: 0.9396 - 1s/epoch - 896us/step\n",
      "Epoch 143/200\n",
      "1500/1500 - 1s - loss: 0.2892 - accuracy: 0.9196 - val_loss: 0.2243 - val_accuracy: 0.9423 - 1s/epoch - 901us/step\n",
      "Epoch 144/200\n",
      "1500/1500 - 1s - loss: 0.2872 - accuracy: 0.9206 - val_loss: 0.2259 - val_accuracy: 0.9412 - 1s/epoch - 910us/step\n",
      "Epoch 145/200\n",
      "1500/1500 - 1s - loss: 0.2871 - accuracy: 0.9204 - val_loss: 0.2214 - val_accuracy: 0.9430 - 1s/epoch - 887us/step\n",
      "Epoch 146/200\n",
      "1500/1500 - 1s - loss: 0.2873 - accuracy: 0.9202 - val_loss: 0.2324 - val_accuracy: 0.9386 - 1s/epoch - 881us/step\n",
      "Epoch 147/200\n",
      "1500/1500 - 1s - loss: 0.2941 - accuracy: 0.9202 - val_loss: 0.2295 - val_accuracy: 0.9417 - 1s/epoch - 889us/step\n",
      "Epoch 148/200\n",
      "1500/1500 - 1s - loss: 0.2912 - accuracy: 0.9184 - val_loss: 0.2256 - val_accuracy: 0.9400 - 1s/epoch - 857us/step\n",
      "Epoch 149/200\n",
      "1500/1500 - 1s - loss: 0.2867 - accuracy: 0.9200 - val_loss: 0.2267 - val_accuracy: 0.9402 - 1s/epoch - 859us/step\n",
      "Epoch 150/200\n",
      "1500/1500 - 1s - loss: 0.2957 - accuracy: 0.9176 - val_loss: 0.2357 - val_accuracy: 0.9383 - 1s/epoch - 866us/step\n",
      "Epoch 151/200\n",
      "1500/1500 - 1s - loss: 0.2915 - accuracy: 0.9195 - val_loss: 0.2340 - val_accuracy: 0.9395 - 1s/epoch - 861us/step\n",
      "Epoch 152/200\n",
      "1500/1500 - 1s - loss: 0.2836 - accuracy: 0.9221 - val_loss: 0.2257 - val_accuracy: 0.9404 - 1s/epoch - 861us/step\n",
      "Epoch 153/200\n",
      "1500/1500 - 1s - loss: 0.2883 - accuracy: 0.9198 - val_loss: 0.2324 - val_accuracy: 0.9397 - 1s/epoch - 862us/step\n",
      "Epoch 154/200\n",
      "1500/1500 - 1s - loss: 0.2887 - accuracy: 0.9203 - val_loss: 0.2349 - val_accuracy: 0.9418 - 1s/epoch - 895us/step\n",
      "Epoch 155/200\n",
      "1500/1500 - 1s - loss: 0.2906 - accuracy: 0.9196 - val_loss: 0.2309 - val_accuracy: 0.9417 - 1s/epoch - 868us/step\n",
      "Epoch 156/200\n",
      "1500/1500 - 1s - loss: 0.2872 - accuracy: 0.9217 - val_loss: 0.2241 - val_accuracy: 0.9414 - 1s/epoch - 857us/step\n",
      "Epoch 157/200\n",
      "1500/1500 - 1s - loss: 0.2868 - accuracy: 0.9202 - val_loss: 0.2267 - val_accuracy: 0.9408 - 1s/epoch - 857us/step\n",
      "Epoch 158/200\n",
      "1500/1500 - 1s - loss: 0.2896 - accuracy: 0.9198 - val_loss: 0.2309 - val_accuracy: 0.9405 - 1s/epoch - 862us/step\n",
      "Epoch 159/200\n",
      "1500/1500 - 1s - loss: 0.2921 - accuracy: 0.9183 - val_loss: 0.2281 - val_accuracy: 0.9425 - 1s/epoch - 863us/step\n",
      "Epoch 160/200\n",
      "1500/1500 - 1s - loss: 0.2886 - accuracy: 0.9203 - val_loss: 0.2292 - val_accuracy: 0.9415 - 1s/epoch - 863us/step\n",
      "Epoch 161/200\n",
      "1500/1500 - 1s - loss: 0.2934 - accuracy: 0.9191 - val_loss: 0.2274 - val_accuracy: 0.9417 - 1s/epoch - 880us/step\n",
      "Epoch 162/200\n",
      "1500/1500 - 1s - loss: 0.2899 - accuracy: 0.9196 - val_loss: 0.2287 - val_accuracy: 0.9419 - 1s/epoch - 893us/step\n",
      "Epoch 163/200\n",
      "1500/1500 - 1s - loss: 0.2858 - accuracy: 0.9206 - val_loss: 0.2316 - val_accuracy: 0.9416 - 1s/epoch - 921us/step\n",
      "Epoch 164/200\n",
      "1500/1500 - 1s - loss: 0.2856 - accuracy: 0.9219 - val_loss: 0.2329 - val_accuracy: 0.9389 - 1s/epoch - 903us/step\n",
      "Epoch 165/200\n",
      "1500/1500 - 1s - loss: 0.2906 - accuracy: 0.9204 - val_loss: 0.2260 - val_accuracy: 0.9427 - 1s/epoch - 868us/step\n",
      "Epoch 166/200\n",
      "1500/1500 - 1s - loss: 0.2925 - accuracy: 0.9200 - val_loss: 0.2266 - val_accuracy: 0.9424 - 1s/epoch - 864us/step\n",
      "Epoch 167/200\n",
      "1500/1500 - 1s - loss: 0.2831 - accuracy: 0.9217 - val_loss: 0.2298 - val_accuracy: 0.9405 - 1s/epoch - 865us/step\n",
      "Epoch 168/200\n",
      "1500/1500 - 1s - loss: 0.2909 - accuracy: 0.9207 - val_loss: 0.2255 - val_accuracy: 0.9407 - 1s/epoch - 913us/step\n",
      "Epoch 169/200\n",
      "1500/1500 - 1s - loss: 0.2858 - accuracy: 0.9204 - val_loss: 0.2225 - val_accuracy: 0.9418 - 1s/epoch - 899us/step\n",
      "Epoch 170/200\n",
      "1500/1500 - 1s - loss: 0.2866 - accuracy: 0.9200 - val_loss: 0.2270 - val_accuracy: 0.9412 - 1s/epoch - 865us/step\n",
      "Epoch 171/200\n",
      "1500/1500 - 1s - loss: 0.2882 - accuracy: 0.9199 - val_loss: 0.2292 - val_accuracy: 0.9408 - 1s/epoch - 866us/step\n",
      "Epoch 172/200\n",
      "1500/1500 - 1s - loss: 0.2863 - accuracy: 0.9215 - val_loss: 0.2281 - val_accuracy: 0.9428 - 1s/epoch - 860us/step\n",
      "Epoch 173/200\n",
      "1500/1500 - 1s - loss: 0.2854 - accuracy: 0.9200 - val_loss: 0.2264 - val_accuracy: 0.9410 - 1s/epoch - 860us/step\n",
      "Epoch 174/200\n",
      "1500/1500 - 1s - loss: 0.2855 - accuracy: 0.9206 - val_loss: 0.2293 - val_accuracy: 0.9389 - 1s/epoch - 857us/step\n",
      "Epoch 175/200\n",
      "1500/1500 - 1s - loss: 0.2808 - accuracy: 0.9227 - val_loss: 0.2371 - val_accuracy: 0.9379 - 1s/epoch - 857us/step\n",
      "Epoch 176/200\n",
      "1500/1500 - 1s - loss: 0.2858 - accuracy: 0.9211 - val_loss: 0.2234 - val_accuracy: 0.9437 - 1s/epoch - 863us/step\n",
      "Epoch 177/200\n",
      "1500/1500 - 1s - loss: 0.2836 - accuracy: 0.9217 - val_loss: 0.2247 - val_accuracy: 0.9430 - 1s/epoch - 861us/step\n",
      "Epoch 178/200\n",
      "1500/1500 - 1s - loss: 0.2837 - accuracy: 0.9200 - val_loss: 0.2302 - val_accuracy: 0.9400 - 1s/epoch - 858us/step\n",
      "Epoch 179/200\n",
      "1500/1500 - 1s - loss: 0.2863 - accuracy: 0.9215 - val_loss: 0.2510 - val_accuracy: 0.9346 - 1s/epoch - 862us/step\n",
      "Epoch 180/200\n",
      "1500/1500 - 1s - loss: 0.2894 - accuracy: 0.9205 - val_loss: 0.2344 - val_accuracy: 0.9405 - 1s/epoch - 858us/step\n",
      "Epoch 181/200\n",
      "1500/1500 - 1s - loss: 0.2923 - accuracy: 0.9191 - val_loss: 0.2374 - val_accuracy: 0.9388 - 1s/epoch - 887us/step\n",
      "Epoch 182/200\n",
      "1500/1500 - 1s - loss: 0.2847 - accuracy: 0.9207 - val_loss: 0.2216 - val_accuracy: 0.9423 - 1s/epoch - 878us/step\n",
      "Epoch 183/200\n",
      "1500/1500 - 1s - loss: 0.2860 - accuracy: 0.9212 - val_loss: 0.2251 - val_accuracy: 0.9408 - 1s/epoch - 861us/step\n",
      "Epoch 184/200\n",
      "1500/1500 - 1s - loss: 0.2846 - accuracy: 0.9218 - val_loss: 0.2238 - val_accuracy: 0.9429 - 1s/epoch - 860us/step\n",
      "Epoch 185/200\n",
      "1500/1500 - 1s - loss: 0.2835 - accuracy: 0.9215 - val_loss: 0.2290 - val_accuracy: 0.9397 - 1s/epoch - 861us/step\n",
      "Epoch 186/200\n",
      "1500/1500 - 1s - loss: 0.2791 - accuracy: 0.9230 - val_loss: 0.2238 - val_accuracy: 0.9428 - 1s/epoch - 858us/step\n",
      "Epoch 187/200\n",
      "1500/1500 - 1s - loss: 0.2792 - accuracy: 0.9232 - val_loss: 0.2159 - val_accuracy: 0.9446 - 1s/epoch - 874us/step\n",
      "Epoch 188/200\n",
      "1500/1500 - 1s - loss: 0.2923 - accuracy: 0.9194 - val_loss: 0.2244 - val_accuracy: 0.9402 - 1s/epoch - 910us/step\n",
      "Epoch 189/200\n",
      "1500/1500 - 1s - loss: 0.2846 - accuracy: 0.9220 - val_loss: 0.2299 - val_accuracy: 0.9408 - 1s/epoch - 868us/step\n",
      "Epoch 190/200\n",
      "1500/1500 - 1s - loss: 0.2844 - accuracy: 0.9212 - val_loss: 0.2200 - val_accuracy: 0.9435 - 1s/epoch - 858us/step\n",
      "Epoch 191/200\n",
      "1500/1500 - 1s - loss: 0.2882 - accuracy: 0.9202 - val_loss: 0.2283 - val_accuracy: 0.9414 - 1s/epoch - 859us/step\n",
      "Epoch 192/200\n",
      "1500/1500 - 1s - loss: 0.2793 - accuracy: 0.9220 - val_loss: 0.2264 - val_accuracy: 0.9402 - 1s/epoch - 861us/step\n"
     ]
    },
    {
     "name": "stdout",
     "output_type": "stream",
     "text": [
      "Epoch 193/200\n",
      "1500/1500 - 1s - loss: 0.2853 - accuracy: 0.9213 - val_loss: 0.2476 - val_accuracy: 0.9348 - 1s/epoch - 861us/step\n",
      "Epoch 194/200\n",
      "1500/1500 - 1s - loss: 0.2874 - accuracy: 0.9214 - val_loss: 0.2290 - val_accuracy: 0.9392 - 1s/epoch - 855us/step\n",
      "Epoch 195/200\n",
      "1500/1500 - 1s - loss: 0.2842 - accuracy: 0.9209 - val_loss: 0.2215 - val_accuracy: 0.9430 - 1s/epoch - 857us/step\n",
      "Epoch 196/200\n",
      "1500/1500 - 1s - loss: 0.2831 - accuracy: 0.9225 - val_loss: 0.2324 - val_accuracy: 0.9393 - 1s/epoch - 861us/step\n",
      "Epoch 197/200\n",
      "1500/1500 - 1s - loss: 0.2858 - accuracy: 0.9208 - val_loss: 0.2317 - val_accuracy: 0.9396 - 1s/epoch - 861us/step\n",
      "Epoch 198/200\n",
      "1500/1500 - 1s - loss: 0.2806 - accuracy: 0.9223 - val_loss: 0.2267 - val_accuracy: 0.9412 - 1s/epoch - 866us/step\n",
      "Epoch 199/200\n",
      "1500/1500 - 1s - loss: 0.2889 - accuracy: 0.9218 - val_loss: 0.2354 - val_accuracy: 0.9401 - 1s/epoch - 858us/step\n",
      "Epoch 200/200\n",
      "1500/1500 - 1s - loss: 0.2816 - accuracy: 0.9212 - val_loss: 0.2386 - val_accuracy: 0.9345 - 1s/epoch - 881us/step\n"
     ]
    }
   ],
   "source": [
    "# will take a while\n",
    "history_dropoutmnist = model.fit(x_train, y_tr_one_hot, epochs=200, batch_size= 32, validation_split = 0.2, verbose =2)"
   ]
  },
  {
   "cell_type": "markdown",
   "metadata": {
    "cell_style": "split",
    "slideshow": {
     "slide_type": "slide"
    }
   },
   "source": [
    "Accuracy on train set will be lower in any given cycle:\n",
    "- some activation killed randomly on training.\n",
    "\n",
    "Performance on validation will be high:\n",
    "- uses full network with learned weights for validation"
   ]
  },
  {
   "cell_type": "markdown",
   "metadata": {
    "cell_style": "split",
    "slideshow": {
     "slide_type": "slide"
    }
   },
   "source": [
    "Not overtraining despite high model capacity:\n",
    "- many hidden layers"
   ]
  },
  {
   "cell_type": "code",
   "execution_count": 57,
   "metadata": {
    "cell_style": "split",
    "slideshow": {
     "slide_type": "fragment"
    }
   },
   "outputs": [
    {
     "data": {
      "image/png": "[encoded data removed]",
      "text/plain": [
       "<Figure size 640x480 with 1 Axes>"
      ]
     },
     "metadata": {},
     "output_type": "display_data"
    }
   ],
   "source": [
    "train_dropoutmnist_history = pd.DataFrame(history_dropoutmnist.history)\n",
    "train_dropoutmnist_history.index.name = 'epochs'\n",
    "\n",
    "col_list = ['loss', 'val_loss']\n",
    "train_dropoutmnist_history[col_list].plot()\n",
    "plt.ylabel('Categorical cross entropy')\n",
    "plt.title('Training loss history')\n",
    "plt.show()"
   ]
  },
  {
   "cell_type": "code",
   "execution_count": 58,
   "metadata": {
    "cell_style": "split",
    "slideshow": {
     "slide_type": "slide"
    }
   },
   "outputs": [
    {
     "data": {
      "image/png": "[encoded data removed]",
      "text/plain": [
       "<Figure size 640x480 with 1 Axes>"
      ]
     },
     "metadata": {},
     "output_type": "display_data"
    }
   ],
   "source": [
    "col_list = ['accuracy', 'val_accuracy']\n",
    "train_dropoutmnist_history[col_list].plot()\n",
    "plt.ylabel('Accuracy')\n",
    "plt.title('Training loss history')\n",
    "plt.show()"
   ]
  },
  {
   "cell_type": "markdown",
   "metadata": {
    "cell_style": "split",
    "slideshow": {
     "slide_type": "fragment"
    }
   },
   "source": [
    "Evaluate on test set."
   ]
  },
  {
   "cell_type": "code",
   "execution_count": 59,
   "metadata": {
    "cell_style": "split",
    "slideshow": {
     "slide_type": "fragment"
    }
   },
   "outputs": [
    {
     "data": {
      "text/plain": [
       "[0.2451884001493454, 0.9366999864578247]"
      ]
     },
     "execution_count": 59,
     "metadata": {},
     "output_type": "execute_result"
    }
   ],
   "source": [
    "model.evaluate(x_test, y_tt_one_hot, verbose =0)"
   ]
  },
  {
   "cell_type": "markdown",
   "metadata": {
    "slideshow": {
     "slide_type": "slide"
    }
   },
   "source": [
    "#### Dropout regularization in conjunction with L2:\n",
    "\n",
    "- can be used to train very deep networks\n",
    "- model complex relationships without overfitting\n",
    "- works best in these cases with a lot of data"
   ]
  },
  {
   "cell_type": "markdown",
   "metadata": {
    "slideshow": {
     "slide_type": "slide"
    }
   },
   "source": [
    "Next up:\n",
    "- doing much better with a more suitable network architecture\n",
    "- Convolutional Neural Networks (CNNs)"
   ]
  },
  {
   "cell_type": "markdown",
   "metadata": {},
   "source": [
    "## HyperParameter Tuning"
   ]
  },
  {
   "cell_type": "markdown",
   "metadata": {},
   "source": [
    "```python\n",
    "from sklearn.model_selection import GridSearchCV\n",
    "from tensorflow.keras.models import Sequential\n",
    "from tensorflow.keras.layers import Dense\n",
    "from tensorflow.keras.wrappers.scikit_learn import KerasClassifier\n",
    "\n",
    "# Define a function to create the Keras model\n",
    "def create_model(optimizer='adam', units=32, activation='relu'):\n",
    "    model = Sequential()\n",
    "    model.add(Dense(units, activation=activation, input_dim=input_dim))\n",
    "    model.add(Dense(output_dim, activation='softmax'))\n",
    "    model.compile(optimizer=optimizer, loss='categorical_crossentropy', metrics=['accuracy'])\n",
    "    return model\n",
    "\n",
    "# Create a KerasClassifier based on the create_model function\n",
    "model = KerasClassifier(build_fn=create_model)\n",
    "\n",
    "# Define a parameter grid for hyperparameter tuning\n",
    "param_grid = {\n",
    "    'units': [32, 64, 128],\n",
    "    'activation': ['relu', 'tanh'],\n",
    "    'optimizer': ['adam', 'sgd'],\n",
    "}\n",
    "\n",
    "# Perform grid search with cross-validation\n",
    "grid_search = GridSearchCV(estimator=model, param_grid=param_grid, scoring='accuracy', cv=3)\n",
    "grid_result = grid_search.fit(X_train, y_train)\n",
    "\n",
    "# Print the best hyperparameters and their performance\n",
    "print(\"Best Parameters: \", grid_result.best_params_)\n",
    "print(\"Best Accuracy: \", grid_result.best_score_)\n",
    "```\n"
   ]
  },
  {
   "cell_type": "code",
   "execution_count": null,
   "metadata": {},
   "outputs": [],
   "source": []
  }
 ],
 "metadata": {
  "colab": {
   "collapsed_sections": [],
   "name": "intro-to-keras.ipynb",
   "provenance": []
  },
  "kernelspec": {
   "display_name": "dplearn",
   "language": "python",
   "name": "dplearn"
  },
  "language_info": {
   "codemirror_mode": {
    "name": "ipython",
    "version": 3
   },
   "file_extension": ".py",
   "mimetype": "text/x-python",
   "name": "python",
   "nbconvert_exporter": "python",
   "pygments_lexer": "ipython3",
   "version": "3.10.10"
  }
 },
 "nbformat": 4,
 "nbformat_minor": 4
}
